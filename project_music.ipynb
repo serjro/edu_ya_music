{
 "cells": [
  {
   "cell_type": "markdown",
   "metadata": {
    "id": "E0vqbgi9ay0H"
   },
   "source": [
    "# Яндекс.Музыка"
   ]
  },
  {
   "cell_type": "markdown",
   "metadata": {
    "id": "VUC88oWjTJw2"
   },
   "source": [
    "Сравнение Москвы и Петербурга окружено мифами. Например:\n",
    " * Москва — мегаполис, подчинённый жёсткому ритму рабочей недели;\n",
    " * Петербург — культурная столица, со своими вкусами.\n",
    "\n",
    "На данных Яндекс.Музыки вы сравните поведение пользователей двух столиц.\n",
    "\n",
    "**Цель исследования** — проверьте три гипотезы:\n",
    "1. Активность пользователей зависит от дня недели. Причём в Москве и Петербурге это проявляется по-разному.\n",
    "2. В понедельник утром в Москве преобладают одни жанры, а в Петербурге — другие. Так же и вечером пятницы преобладают разные жанры — в зависимости от города. \n",
    "3. Москва и Петербург предпочитают разные жанры музыки. В Москве чаще слушают поп-музыку, в Петербурге — русский рэп.\n",
    "\n",
    "**Ход исследования**\n",
    "\n",
    "Данные о поведении пользователей вы получите из файла `yandex_music_project.csv`. О качестве данных ничего не известно. Поэтому перед проверкой гипотез понадобится обзор данных. \n",
    "\n",
    "Вы проверите данные на ошибки и оцените их влияние на исследование. Затем, на этапе предобработки вы поищете возможность исправить самые критичные ошибки данных.\n",
    " \n",
    "Таким образом, исследование пройдёт в три этапа:\n",
    " 1. Обзор данных.\n",
    " 2. Предобработка данных.\n",
    " 3. Проверка гипотез.\n",
    "\n"
   ]
  },
  {
   "cell_type": "markdown",
   "metadata": {
    "id": "Ml1hmfXC_Zcs"
   },
   "source": [
    "## Обзор данных\n",
    "\n",
    "Составьте первое представление о данных Яндекс.Музыки.\n",
    "\n",
    "\n"
   ]
  },
  {
   "cell_type": "markdown",
   "metadata": {
    "id": "57eAOGIz_Zcs"
   },
   "source": [
    "Основной инструмент аналитика — `pandas`. Импортируйте эту библиотеку."
   ]
  },
  {
   "cell_type": "code",
   "execution_count": 1,
   "metadata": {
    "id": "AXN7PHPN_Zcs"
   },
   "outputs": [],
   "source": [
    "import pandas as pd"
   ]
  },
  {
   "cell_type": "markdown",
   "metadata": {
    "id": "SG23P8tt_Zcs"
   },
   "source": [
    "Прочитайте файл `yandex_music_project.csv` из папки `/datasets` и сохраните его в переменной `df`:"
   ]
  },
  {
   "cell_type": "code",
   "execution_count": 2,
   "metadata": {
    "id": "fFVu7vqh_Zct"
   },
   "outputs": [],
   "source": [
    "df = pd.read_csv('/datasets/yandex_music_project.csv')"
   ]
  },
  {
   "cell_type": "markdown",
   "metadata": {
    "id": "rDoOMd3uTqnZ"
   },
   "source": [
    "Выведите на экран первые десять строк таблицы:"
   ]
  },
  {
   "cell_type": "code",
   "execution_count": 3,
   "metadata": {
    "id": "oWTVX3gW_Zct"
   },
   "outputs": [
    {
     "data": {
      "text/html": [
       "<div>\n",
       "<style scoped>\n",
       "    .dataframe tbody tr th:only-of-type {\n",
       "        vertical-align: middle;\n",
       "    }\n",
       "\n",
       "    .dataframe tbody tr th {\n",
       "        vertical-align: top;\n",
       "    }\n",
       "\n",
       "    .dataframe thead th {\n",
       "        text-align: right;\n",
       "    }\n",
       "</style>\n",
       "<table border=\"1\" class=\"dataframe\">\n",
       "  <thead>\n",
       "    <tr style=\"text-align: right;\">\n",
       "      <th></th>\n",
       "      <th>userID</th>\n",
       "      <th>Track</th>\n",
       "      <th>artist</th>\n",
       "      <th>genre</th>\n",
       "      <th>City</th>\n",
       "      <th>time</th>\n",
       "      <th>Day</th>\n",
       "    </tr>\n",
       "  </thead>\n",
       "  <tbody>\n",
       "    <tr>\n",
       "      <td>0</td>\n",
       "      <td>FFB692EC</td>\n",
       "      <td>Kamigata To Boots</td>\n",
       "      <td>The Mass Missile</td>\n",
       "      <td>rock</td>\n",
       "      <td>Saint-Petersburg</td>\n",
       "      <td>20:28:33</td>\n",
       "      <td>Wednesday</td>\n",
       "    </tr>\n",
       "    <tr>\n",
       "      <td>1</td>\n",
       "      <td>55204538</td>\n",
       "      <td>Delayed Because of Accident</td>\n",
       "      <td>Andreas Rönnberg</td>\n",
       "      <td>rock</td>\n",
       "      <td>Moscow</td>\n",
       "      <td>14:07:09</td>\n",
       "      <td>Friday</td>\n",
       "    </tr>\n",
       "    <tr>\n",
       "      <td>2</td>\n",
       "      <td>20EC38</td>\n",
       "      <td>Funiculì funiculà</td>\n",
       "      <td>Mario Lanza</td>\n",
       "      <td>pop</td>\n",
       "      <td>Saint-Petersburg</td>\n",
       "      <td>20:58:07</td>\n",
       "      <td>Wednesday</td>\n",
       "    </tr>\n",
       "    <tr>\n",
       "      <td>3</td>\n",
       "      <td>A3DD03C9</td>\n",
       "      <td>Dragons in the Sunset</td>\n",
       "      <td>Fire + Ice</td>\n",
       "      <td>folk</td>\n",
       "      <td>Saint-Petersburg</td>\n",
       "      <td>08:37:09</td>\n",
       "      <td>Monday</td>\n",
       "    </tr>\n",
       "    <tr>\n",
       "      <td>4</td>\n",
       "      <td>E2DC1FAE</td>\n",
       "      <td>Soul People</td>\n",
       "      <td>Space Echo</td>\n",
       "      <td>dance</td>\n",
       "      <td>Moscow</td>\n",
       "      <td>08:34:34</td>\n",
       "      <td>Monday</td>\n",
       "    </tr>\n",
       "    <tr>\n",
       "      <td>5</td>\n",
       "      <td>842029A1</td>\n",
       "      <td>Преданная</td>\n",
       "      <td>IMPERVTOR</td>\n",
       "      <td>rusrap</td>\n",
       "      <td>Saint-Petersburg</td>\n",
       "      <td>13:09:41</td>\n",
       "      <td>Friday</td>\n",
       "    </tr>\n",
       "    <tr>\n",
       "      <td>6</td>\n",
       "      <td>4CB90AA5</td>\n",
       "      <td>True</td>\n",
       "      <td>Roman Messer</td>\n",
       "      <td>dance</td>\n",
       "      <td>Moscow</td>\n",
       "      <td>13:00:07</td>\n",
       "      <td>Wednesday</td>\n",
       "    </tr>\n",
       "    <tr>\n",
       "      <td>7</td>\n",
       "      <td>F03E1C1F</td>\n",
       "      <td>Feeling This Way</td>\n",
       "      <td>Polina Griffith</td>\n",
       "      <td>dance</td>\n",
       "      <td>Moscow</td>\n",
       "      <td>20:47:49</td>\n",
       "      <td>Wednesday</td>\n",
       "    </tr>\n",
       "    <tr>\n",
       "      <td>8</td>\n",
       "      <td>8FA1D3BE</td>\n",
       "      <td>И вновь продолжается бой</td>\n",
       "      <td>NaN</td>\n",
       "      <td>ruspop</td>\n",
       "      <td>Moscow</td>\n",
       "      <td>09:17:40</td>\n",
       "      <td>Friday</td>\n",
       "    </tr>\n",
       "    <tr>\n",
       "      <td>9</td>\n",
       "      <td>E772D5C0</td>\n",
       "      <td>Pessimist</td>\n",
       "      <td>NaN</td>\n",
       "      <td>dance</td>\n",
       "      <td>Saint-Petersburg</td>\n",
       "      <td>21:20:49</td>\n",
       "      <td>Wednesday</td>\n",
       "    </tr>\n",
       "  </tbody>\n",
       "</table>\n",
       "</div>"
      ],
      "text/plain": [
       "     userID                        Track            artist   genre  \\\n",
       "0  FFB692EC            Kamigata To Boots  The Mass Missile    rock   \n",
       "1  55204538  Delayed Because of Accident  Andreas Rönnberg    rock   \n",
       "2    20EC38            Funiculì funiculà       Mario Lanza     pop   \n",
       "3  A3DD03C9        Dragons in the Sunset        Fire + Ice    folk   \n",
       "4  E2DC1FAE                  Soul People        Space Echo   dance   \n",
       "5  842029A1                    Преданная         IMPERVTOR  rusrap   \n",
       "6  4CB90AA5                         True      Roman Messer   dance   \n",
       "7  F03E1C1F             Feeling This Way   Polina Griffith   dance   \n",
       "8  8FA1D3BE     И вновь продолжается бой               NaN  ruspop   \n",
       "9  E772D5C0                    Pessimist               NaN   dance   \n",
       "\n",
       "             City        time        Day  \n",
       "0  Saint-Petersburg  20:28:33  Wednesday  \n",
       "1            Moscow  14:07:09     Friday  \n",
       "2  Saint-Petersburg  20:58:07  Wednesday  \n",
       "3  Saint-Petersburg  08:37:09     Monday  \n",
       "4            Moscow  08:34:34     Monday  \n",
       "5  Saint-Petersburg  13:09:41     Friday  \n",
       "6            Moscow  13:00:07  Wednesday  \n",
       "7            Moscow  20:47:49  Wednesday  \n",
       "8            Moscow  09:17:40     Friday  \n",
       "9  Saint-Petersburg  21:20:49  Wednesday  "
      ]
     },
     "metadata": {},
     "output_type": "display_data"
    }
   ],
   "source": [
    "display(df.head(10))"
   ]
  },
  {
   "cell_type": "markdown",
   "metadata": {
    "id": "EO73Kwic_Zct"
   },
   "source": [
    "Одной командой получить общую информацию о таблице:"
   ]
  },
  {
   "cell_type": "code",
   "execution_count": 4,
   "metadata": {
    "id": "DSf2kIb-_Zct"
   },
   "outputs": [
    {
     "name": "stdout",
     "output_type": "stream",
     "text": [
      "<class 'pandas.core.frame.DataFrame'>\n",
      "RangeIndex: 65079 entries, 0 to 65078\n",
      "Data columns (total 7 columns):\n",
      "  userID    65079 non-null object\n",
      "Track       63848 non-null object\n",
      "artist      57876 non-null object\n",
      "genre       63881 non-null object\n",
      "  City      65079 non-null object\n",
      "time        65079 non-null object\n",
      "Day         65079 non-null object\n",
      "dtypes: object(7)\n",
      "memory usage: 3.5+ MB\n"
     ]
    }
   ],
   "source": [
    "df.info()"
   ]
  },
  {
   "cell_type": "markdown",
   "metadata": {
    "id": "TaQ2Iwbr_Zct"
   },
   "source": [
    "Итак, в таблице семь столбцов. Тип данных во всех столбцах — `object`.\n",
    "\n",
    "Согласно документации к данным:\n",
    "* `userID` — идентификатор пользователя;\n",
    "* `Track` — название трека;  \n",
    "* `artist` — имя исполнителя;\n",
    "* `genre` — название жанра;\n",
    "* `City` — город пользователя;\n",
    "* `time` — время начала прослушивания;\n",
    "* `Day` — день недели.\n",
    "\n",
    "В названиях колонок видны три нарушения стиля:\n",
    "1. Строчные буквы сочетаются с прописными.\n",
    "2. Встречаются пробелы.\n",
    "3. Найдите ещё одну проблему в названии колонок и опишите её в этом пункте.\n",
    "\n",
    "\n",
    "\n",
    "Количество значений в столбцах различается. Значит, в данных есть пропущенные значения.\n"
   ]
  },
  {
   "cell_type": "code",
   "execution_count": null,
   "metadata": {},
   "outputs": [],
   "source": [
    "# 3.Третья проблема заключается в несоблюдении стиля написания составных слов Snake case в колонке userID."
   ]
  },
  {
   "cell_type": "markdown",
   "metadata": {
    "id": "MCB6-dXG_Zct"
   },
   "source": [
    "**Выводы**\n",
    "\n",
    "В каждой строке таблицы — данные о прослушанном треке. Часть колонок описывает саму композицию: название, исполнителя и жанр. Остальные данные рассказывают о пользователе: из какого он города, когда он слушал музыку. \n",
    "\n",
    "Предварительно можно утверждать, что, данных достаточно для проверки гипотез. Но встречаются пропуски в данных, а в названиях колонок — расхождения с хорошим стилем.\n",
    "\n",
    "Чтобы двигаться дальше, нужно устранить проблемы в данных."
   ]
  },
  {
   "cell_type": "markdown",
   "metadata": {
    "id": "SjYF6Ub9_Zct"
   },
   "source": [
    "## Предобработка данных\n",
    "Исправьте стиль в заголовках столбцов, исключите пропуски. Затем проверьте данные на дубликаты."
   ]
  },
  {
   "cell_type": "markdown",
   "metadata": {
    "id": "dIaKXr29_Zct"
   },
   "source": [
    "### Стиль заголовков\n",
    "Выведите на экран названия столбцов:"
   ]
  },
  {
   "cell_type": "code",
   "execution_count": 5,
   "metadata": {
    "id": "oKOTdF_Q_Zct"
   },
   "outputs": [
    {
     "data": {
      "text/plain": [
       "Index(['  userID', 'Track', 'artist', 'genre', '  City  ', 'time', 'Day'], dtype='object')"
      ]
     },
     "execution_count": 5,
     "metadata": {},
     "output_type": "execute_result"
    }
   ],
   "source": [
    "df.columns"
   ]
  },
  {
   "cell_type": "markdown",
   "metadata": {
    "id": "zj5534cv_Zct"
   },
   "source": [
    "Приведите названия в соответствие с хорошим стилем:\n",
    "* несколько слов в названии запишите в «змеином_регистре»,\n",
    "* все символы сделайте строчными,\n",
    "* устраните пробелы.\n",
    "\n",
    "Для этого переименуйте колонки так:\n",
    "* `'  userID'` → `'user_id'`;\n",
    "* `'Track'` → `'track'`;\n",
    "* `'  City  '` → `'city'`;\n",
    "* `'Day'` → `'day'`."
   ]
  },
  {
   "cell_type": "code",
   "execution_count": 6,
   "metadata": {
    "id": "ISlFqs5y_Zct"
   },
   "outputs": [],
   "source": [
    "df=df.rename(columns={'  userID':'user_id','Track':'track','  City  ':'city','Day':'day'})"
   ]
  },
  {
   "cell_type": "markdown",
   "metadata": {
    "id": "1dqbh00J_Zct"
   },
   "source": [
    "Проверьте результат. Для этого ещё раз выведите на экран названия столбцов:"
   ]
  },
  {
   "cell_type": "code",
   "execution_count": 7,
   "metadata": {
    "id": "d4NOAmTW_Zct"
   },
   "outputs": [
    {
     "data": {
      "text/plain": [
       "Index(['user_id', 'track', 'artist', 'genre', 'city', 'time', 'day'], dtype='object')"
      ]
     },
     "execution_count": 7,
     "metadata": {},
     "output_type": "execute_result"
    }
   ],
   "source": [
    "df.columns"
   ]
  },
  {
   "cell_type": "markdown",
   "metadata": {
    "id": "5ISfbcfY_Zct"
   },
   "source": [
    "### Пропуски значений\n",
    "Сначала посчитайте, сколько в таблице пропущенных значений. Для этого достаточно двух методов `pandas`:"
   ]
  },
  {
   "cell_type": "code",
   "execution_count": 8,
   "metadata": {
    "id": "RskX29qr_Zct"
   },
   "outputs": [
    {
     "data": {
      "text/plain": [
       "user_id       0\n",
       "track      1231\n",
       "artist     7203\n",
       "genre      1198\n",
       "city          0\n",
       "time          0\n",
       "day           0\n",
       "dtype: int64"
      ]
     },
     "execution_count": 8,
     "metadata": {},
     "output_type": "execute_result"
    }
   ],
   "source": [
    "df.isna().sum()"
   ]
  },
  {
   "cell_type": "markdown",
   "metadata": {
    "id": "qubhgnlO_Zct"
   },
   "source": [
    "Не все пропущенные значения влияют на исследование. Так в `track` и `artist` пропуски не важны для вашей работы. Достаточно заменить их явными обозначениями.\n",
    "\n",
    "Но пропуски в `genre` могут помешать сравнению музыкальных вкусов в Москве и Санкт-Петербурге. На практике было бы правильно установить причину пропусков и восстановить данные. Такой возможности нет в учебном проекте. Придётся:\n",
    "* заполнить и эти пропуски явными обозначениями,\n",
    "* оценить, насколько они повредят расчётам. "
   ]
  },
  {
   "cell_type": "markdown",
   "metadata": {
    "id": "fSv2laPA_Zct"
   },
   "source": [
    "Замените пропущенные значения в столбцах `track`, `artist` и `genre` на строку `'unknown'`. Для этого создайте список `columns_to_replace`, переберите его элементы циклом `for` и для каждого столбца выполните замену пропущенных значений:"
   ]
  },
  {
   "cell_type": "code",
   "execution_count": 9,
   "metadata": {
    "id": "KplB5qWs_Zct"
   },
   "outputs": [],
   "source": [
    "columns_to_replace = ['track', 'artist', 'genre']\n",
    "for item in columns_to_replace:\n",
    "    df[item] = df[item].fillna('unknown')"
   ]
  },
  {
   "cell_type": "markdown",
   "metadata": {
    "id": "Ilsm-MZo_Zct"
   },
   "source": [
    "Убедитесь, что в таблице не осталось пропусков. Для этого ещё раз посчитайте пропущенные значения."
   ]
  },
  {
   "cell_type": "code",
   "execution_count": 10,
   "metadata": {
    "id": "Tq4nYRX4_Zct"
   },
   "outputs": [
    {
     "data": {
      "text/plain": [
       "user_id    0\n",
       "track      0\n",
       "artist     0\n",
       "genre      0\n",
       "city       0\n",
       "time       0\n",
       "day        0\n",
       "dtype: int64"
      ]
     },
     "execution_count": 10,
     "metadata": {},
     "output_type": "execute_result"
    }
   ],
   "source": [
    "df.isna().sum()"
   ]
  },
  {
   "cell_type": "markdown",
   "metadata": {
    "id": "BWKRtBJ3_Zct"
   },
   "source": [
    "### Дубликаты\n",
    "Посчитайте явные дубликаты в таблице одной командой:"
   ]
  },
  {
   "cell_type": "code",
   "execution_count": 11,
   "metadata": {
    "id": "36eES_S0_Zct"
   },
   "outputs": [
    {
     "data": {
      "text/plain": [
       "3826"
      ]
     },
     "execution_count": 11,
     "metadata": {},
     "output_type": "execute_result"
    }
   ],
   "source": [
    "df.duplicated().sum()"
   ]
  },
  {
   "cell_type": "markdown",
   "metadata": {
    "id": "Ot25h6XR_Zct"
   },
   "source": [
    "Вызовите специальный метод `pandas`, чтобы удалить явные дубликаты:"
   ]
  },
  {
   "cell_type": "code",
   "execution_count": 12,
   "metadata": {
    "id": "exFHq6tt_Zct"
   },
   "outputs": [],
   "source": [
    "df = df.drop_duplicates().reset_index() "
   ]
  },
  {
   "cell_type": "markdown",
   "metadata": {
    "id": "Im2YwBEG_Zct"
   },
   "source": [
    "Ещё раз посчитайте явные дубликаты в таблице — убедитесь, что полностью от них избавились:"
   ]
  },
  {
   "cell_type": "code",
   "execution_count": 13,
   "metadata": {
    "id": "-8PuNWQ0_Zct"
   },
   "outputs": [
    {
     "data": {
      "text/plain": [
       "0"
      ]
     },
     "execution_count": 13,
     "metadata": {},
     "output_type": "execute_result"
    }
   ],
   "source": [
    "df.duplicated().sum()"
   ]
  },
  {
   "cell_type": "markdown",
   "metadata": {
    "id": "QlFBsxAr_Zct"
   },
   "source": [
    "Теперь избавьтесь от неявных дубликатов в колонке `genre`. Например, название одного и того же жанра может быть записано немного по-разному. Такие ошибки тоже повлияют на результат исследования."
   ]
  },
  {
   "cell_type": "markdown",
   "metadata": {
    "id": "eSjWwsOh_Zct"
   },
   "source": [
    "Выведите на экран список уникальных названий жанров, отсортированный в алфавитном порядке. Для этого:\n",
    "* извлеките нужный столбец датафрейма, \n",
    "* примените к нему метод сортировки,\n",
    "* для отсортированного столбца вызовите метод, который вернёт уникальные значения из столбца."
   ]
  },
  {
   "cell_type": "code",
   "execution_count": 14,
   "metadata": {
    "id": "JIUcqzZN_Zct"
   },
   "outputs": [
    {
     "data": {
      "text/plain": [
       "array(['acid', 'acoustic', 'action', 'adult', 'africa', 'afrikaans',\n",
       "       'alternative', 'alternativepunk', 'ambient', 'americana',\n",
       "       'animated', 'anime', 'arabesk', 'arabic', 'arena',\n",
       "       'argentinetango', 'art', 'audiobook', 'author', 'avantgarde',\n",
       "       'axé', 'baile', 'balkan', 'beats', 'bigroom', 'black', 'bluegrass',\n",
       "       'blues', 'bollywood', 'bossa', 'brazilian', 'breakbeat', 'breaks',\n",
       "       'broadway', 'cantautori', 'cantopop', 'canzone', 'caribbean',\n",
       "       'caucasian', 'celtic', 'chamber', 'chanson', 'children', 'chill',\n",
       "       'chinese', 'choral', 'christian', 'christmas', 'classical',\n",
       "       'classicmetal', 'club', 'colombian', 'comedy', 'conjazz',\n",
       "       'contemporary', 'country', 'cuban', 'dance', 'dancehall',\n",
       "       'dancepop', 'dark', 'death', 'deep', 'deutschrock', 'deutschspr',\n",
       "       'dirty', 'disco', 'dnb', 'documentary', 'downbeat', 'downtempo',\n",
       "       'drum', 'dub', 'dubstep', 'eastern', 'easy', 'electronic',\n",
       "       'electropop', 'emo', 'entehno', 'epicmetal', 'estrada', 'ethnic',\n",
       "       'eurofolk', 'european', 'experimental', 'extrememetal', 'fado',\n",
       "       'fairytail', 'film', 'fitness', 'flamenco', 'folk', 'folklore',\n",
       "       'folkmetal', 'folkrock', 'folktronica', 'forró', 'frankreich',\n",
       "       'französisch', 'french', 'funk', 'future', 'gangsta', 'garage',\n",
       "       'german', 'ghazal', 'gitarre', 'glitch', 'gospel', 'gothic',\n",
       "       'grime', 'grunge', 'gypsy', 'handsup', \"hard'n'heavy\", 'hardcore',\n",
       "       'hardstyle', 'hardtechno', 'hip', 'hip-hop', 'hiphop',\n",
       "       'historisch', 'holiday', 'hop', 'horror', 'house', 'hymn', 'idm',\n",
       "       'independent', 'indian', 'indie', 'indipop', 'industrial',\n",
       "       'inspirational', 'instrumental', 'international', 'irish', 'jam',\n",
       "       'japanese', 'jazz', 'jewish', 'jpop', 'jungle', 'k-pop',\n",
       "       'karadeniz', 'karaoke', 'kayokyoku', 'korean', 'laiko', 'latin',\n",
       "       'latino', 'leftfield', 'local', 'lounge', 'loungeelectronic',\n",
       "       'lovers', 'malaysian', 'mandopop', 'marschmusik', 'meditative',\n",
       "       'mediterranean', 'melodic', 'metal', 'metalcore', 'mexican',\n",
       "       'middle', 'minimal', 'miscellaneous', 'modern', 'mood', 'mpb',\n",
       "       'muslim', 'native', 'neoklassik', 'neue', 'new', 'newage',\n",
       "       'newwave', 'nu', 'nujazz', 'numetal', 'oceania', 'old', 'opera',\n",
       "       'orchestral', 'other', 'piano', 'podcasts', 'pop', 'popdance',\n",
       "       'popelectronic', 'popeurodance', 'poprussian', 'post',\n",
       "       'posthardcore', 'postrock', 'power', 'progmetal', 'progressive',\n",
       "       'psychedelic', 'punjabi', 'punk', 'quebecois', 'ragga', 'ram',\n",
       "       'rancheras', 'rap', 'rave', 'reggae', 'reggaeton', 'regional',\n",
       "       'relax', 'religious', 'retro', 'rhythm', 'rnb', 'rnr', 'rock',\n",
       "       'rockabilly', 'rockalternative', 'rockindie', 'rockother',\n",
       "       'romance', 'roots', 'ruspop', 'rusrap', 'rusrock', 'russian',\n",
       "       'salsa', 'samba', 'scenic', 'schlager', 'self', 'sertanejo',\n",
       "       'shanson', 'shoegazing', 'showtunes', 'singer', 'ska', 'skarock',\n",
       "       'slow', 'smooth', 'soft', 'soul', 'soulful', 'sound', 'soundtrack',\n",
       "       'southern', 'specialty', 'speech', 'spiritual', 'sport',\n",
       "       'stonerrock', 'surf', 'swing', 'synthpop', 'synthrock',\n",
       "       'sängerportrait', 'tango', 'tanzorchester', 'taraftar', 'tatar',\n",
       "       'tech', 'techno', 'teen', 'thrash', 'top', 'traditional',\n",
       "       'tradjazz', 'trance', 'tribal', 'trip', 'triphop', 'tropical',\n",
       "       'türk', 'türkçe', 'ukrrock', 'unknown', 'urban', 'uzbek',\n",
       "       'variété', 'vi', 'videogame', 'vocal', 'western', 'world',\n",
       "       'worldbeat', 'ïîï', 'электроника'], dtype=object)"
      ]
     },
     "execution_count": 14,
     "metadata": {},
     "output_type": "execute_result"
    }
   ],
   "source": [
    "df['genre'].sort_values().unique()"
   ]
  },
  {
   "cell_type": "markdown",
   "metadata": {
    "id": "qej-Qmuo_Zct"
   },
   "source": [
    "Просмотрите список и найдите неявные дубликаты названия `hiphop`. Это могут быть названия с ошибками или альтернативные названия того же жанра.\n",
    "\n",
    "Вы увидите следующие неявные дубликаты:\n",
    "* *hip*,\n",
    "* *hop*,\n",
    "* *hip-hop*.\n",
    "\n",
    "Чтобы очистить от них таблицу, напишите функцию `replace_wrong_genres()` с двумя параметрами: \n",
    "* `wrong_genres` — список дубликатов,\n",
    "* `correct_genre` — строка с правильным значением.\n",
    "\n",
    "Функция должна исправить колонку `genre` в таблице `df`: заменить каждое значение из списка `wrong_genres` на значение из `correct_genre`."
   ]
  },
  {
   "cell_type": "code",
   "execution_count": 15,
   "metadata": {},
   "outputs": [
    {
     "name": "stdout",
     "output_type": "stream",
     "text": [
      "alternative --- \u001b[31malternative\u001b[0mpunk, rock\u001b[31malternative\u001b[0m\n",
      "dance --- \u001b[31mdance\u001b[0mhall, \u001b[31mdance\u001b[0mpop, pop\u001b[31mdance\u001b[0m, popeuro\u001b[31mdance\u001b[0m\n",
      "dub --- \u001b[31mdub\u001b[0mstep\n",
      "electronic --- lounge\u001b[31melectronic\u001b[0m, pop\u001b[31melectronic\u001b[0m\n",
      "folk --- euro\u001b[31mfolk\u001b[0m, \u001b[31mfolk\u001b[0mlore, \u001b[31mfolk\u001b[0mmetal, \u001b[31mfolk\u001b[0mrock, \u001b[31mfolk\u001b[0mtronica\n",
      "hardcore --- post\u001b[31mhardcore\u001b[0m\n",
      "hip --- \u001b[31mhip\u001b[0m-hop, \u001b[31mhip\u001b[0mhop\n",
      "hop --- hip-\u001b[31mhop\u001b[0m, hip\u001b[31mhop\u001b[0m, trip\u001b[31mhop\u001b[0m\n",
      "indie --- rock\u001b[31mindie\u001b[0m\n",
      "jazz --- con\u001b[31mjazz\u001b[0m, nu\u001b[31mjazz\u001b[0m, trad\u001b[31mjazz\u001b[0m\n",
      "latin --- \u001b[31mlatin\u001b[0mo\n",
      "lounge --- \u001b[31mlounge\u001b[0melectronic\n",
      "metal --- classic\u001b[31mmetal\u001b[0m, epic\u001b[31mmetal\u001b[0m, extreme\u001b[31mmetal\u001b[0m, folk\u001b[31mmetal\u001b[0m, \u001b[31mmetal\u001b[0mcore, nu\u001b[31mmetal\u001b[0m, prog\u001b[31mmetal\u001b[0m\n",
      "native --- alter\u001b[31mnative\u001b[0m, alter\u001b[31mnative\u001b[0mpunk, rockalter\u001b[31mnative\u001b[0m\n",
      "new --- \u001b[31mnew\u001b[0mage, \u001b[31mnew\u001b[0mwave\n",
      "nu --- \u001b[31mnu\u001b[0mjazz, \u001b[31mnu\u001b[0mmetal\n",
      "other --- rock\u001b[31mother\u001b[0m\n",
      "pop --- canto\u001b[31mpop\u001b[0m, dance\u001b[31mpop\u001b[0m, electro\u001b[31mpop\u001b[0m, indi\u001b[31mpop\u001b[0m, j\u001b[31mpop\u001b[0m, k-\u001b[31mpop\u001b[0m, mando\u001b[31mpop\u001b[0m, \u001b[31mpop\u001b[0mdance, \u001b[31mpop\u001b[0melectronic, \u001b[31mpop\u001b[0meurodance, \u001b[31mpop\u001b[0mrussian, rus\u001b[31mpop\u001b[0m, synth\u001b[31mpop\u001b[0m\n",
      "post --- \u001b[31mpost\u001b[0mhardcore, \u001b[31mpost\u001b[0mrock\n",
      "punk --- alternative\u001b[31mpunk\u001b[0m\n",
      "rap --- rus\u001b[31mrap\u001b[0m\n",
      "reggae --- \u001b[31mreggae\u001b[0mton\n",
      "rock --- deutsch\u001b[31mrock\u001b[0m, folk\u001b[31mrock\u001b[0m, post\u001b[31mrock\u001b[0m, \u001b[31mrock\u001b[0mabilly, \u001b[31mrock\u001b[0malternative, \u001b[31mrock\u001b[0mindie, \u001b[31mrock\u001b[0mother, rus\u001b[31mrock\u001b[0m, ska\u001b[31mrock\u001b[0m, stoner\u001b[31mrock\u001b[0m, synth\u001b[31mrock\u001b[0m, ukr\u001b[31mrock\u001b[0m\n",
      "russian --- pop\u001b[31mrussian\u001b[0m\n",
      "ska --- \u001b[31mska\u001b[0mrock\n",
      "soul --- \u001b[31msoul\u001b[0mful\n",
      "sound --- \u001b[31msound\u001b[0mtrack\n",
      "tango --- argentine\u001b[31mtango\u001b[0m\n",
      "tech --- hard\u001b[31mtech\u001b[0mno, \u001b[31mtech\u001b[0mno\n",
      "techno --- hard\u001b[31mtechno\u001b[0m\n",
      "top --- can\u001b[31mtop\u001b[0mop\n",
      "trip --- \u001b[31mtrip\u001b[0mhop\n",
      "türk --- \u001b[31mtürk\u001b[0mçe\n",
      "vi --- \u001b[31mvi\u001b[0mdeogame\n",
      "world --- \u001b[31mworld\u001b[0mbeat\n"
     ]
    }
   ],
   "source": [
    "# Поиск неявных дубликатов\n",
    "dc={}\n",
    "for i in range(len(df['genre'].sort_values().unique())):\n",
    "    genre_list=list(df['genre'].sort_values().unique())\n",
    "    arg=genre_list[i]\n",
    "    genre_list.pop(i)\n",
    "    wr=list(filter(lambda x: arg in x, genre_list))\n",
    "    if len(wr)>0:\n",
    "        if arg not in dc.keys():\n",
    "            dc[arg]=wr\n",
    "        else:\n",
    "            dc[arg]+=wr\n",
    "for key,value in dc.items():\n",
    "    dc[key]=sorted(list(set(value)))\n",
    "    str_val=\", \".join(list(map(lambda x: str(x[:x.find(key)]+\"\\033[31m\"+\\\n",
    "                                            x[x.find(key):x.find(key)+len(key)]+\\\n",
    "                                            \"\\033[0m\"+x[x.find(key)+len(key):]),value)))\n",
    "    print((\"{0} --- {1}\").format(key,str_val))"
   ]
  },
  {
   "cell_type": "code",
   "execution_count": 16,
   "metadata": {
    "id": "ErNDkmns_Zct"
   },
   "outputs": [],
   "source": [
    "def replace_wrong_values(wrong_values, correct_value): \n",
    "    for wrong_value in wrong_values: \n",
    "        df['genre'] = df['genre'].replace(wrong_value, correct_value)"
   ]
  },
  {
   "cell_type": "markdown",
   "metadata": {
    "id": "aDoBJxbA_Zct"
   },
   "source": [
    "Вызовите `replace_wrong_genres()` и передайте ей такие аргументы, чтобы она устранила неявные дубликаты: вместо `hip`, `hop` и `hip-hop` в таблице должно быть значение `hiphop`:"
   ]
  },
  {
   "cell_type": "code",
   "execution_count": 17,
   "metadata": {
    "id": "YN5i2hpmSo09"
   },
   "outputs": [],
   "source": [
    "wrong_values_list = ['hip', 'hop', 'hip-hop']\n",
    "replace_wrong_values(wrong_values_list,'hiphop')"
   ]
  },
  {
   "cell_type": "markdown",
   "metadata": {
    "id": "zQKF16_RG15m"
   },
   "source": [
    "Проверьте, что заменили неправильные названия:\n",
    "\n",
    "*   hip\n",
    "*   hop\n",
    "*   hip-hop\n",
    "\n",
    "Выведите отсортированный список уникальных значений столбца `genre`:"
   ]
  },
  {
   "cell_type": "code",
   "execution_count": 18,
   "metadata": {
    "id": "wvixALnFG15m"
   },
   "outputs": [
    {
     "data": {
      "text/plain": [
       "array(['acid', 'acoustic', 'action', 'adult', 'africa', 'afrikaans',\n",
       "       'alternative', 'alternativepunk', 'ambient', 'americana',\n",
       "       'animated', 'anime', 'arabesk', 'arabic', 'arena',\n",
       "       'argentinetango', 'art', 'audiobook', 'author', 'avantgarde',\n",
       "       'axé', 'baile', 'balkan', 'beats', 'bigroom', 'black', 'bluegrass',\n",
       "       'blues', 'bollywood', 'bossa', 'brazilian', 'breakbeat', 'breaks',\n",
       "       'broadway', 'cantautori', 'cantopop', 'canzone', 'caribbean',\n",
       "       'caucasian', 'celtic', 'chamber', 'chanson', 'children', 'chill',\n",
       "       'chinese', 'choral', 'christian', 'christmas', 'classical',\n",
       "       'classicmetal', 'club', 'colombian', 'comedy', 'conjazz',\n",
       "       'contemporary', 'country', 'cuban', 'dance', 'dancehall',\n",
       "       'dancepop', 'dark', 'death', 'deep', 'deutschrock', 'deutschspr',\n",
       "       'dirty', 'disco', 'dnb', 'documentary', 'downbeat', 'downtempo',\n",
       "       'drum', 'dub', 'dubstep', 'eastern', 'easy', 'electronic',\n",
       "       'electropop', 'emo', 'entehno', 'epicmetal', 'estrada', 'ethnic',\n",
       "       'eurofolk', 'european', 'experimental', 'extrememetal', 'fado',\n",
       "       'fairytail', 'film', 'fitness', 'flamenco', 'folk', 'folklore',\n",
       "       'folkmetal', 'folkrock', 'folktronica', 'forró', 'frankreich',\n",
       "       'französisch', 'french', 'funk', 'future', 'gangsta', 'garage',\n",
       "       'german', 'ghazal', 'gitarre', 'glitch', 'gospel', 'gothic',\n",
       "       'grime', 'grunge', 'gypsy', 'handsup', \"hard'n'heavy\", 'hardcore',\n",
       "       'hardstyle', 'hardtechno', 'hiphop', 'historisch', 'holiday',\n",
       "       'horror', 'house', 'hymn', 'idm', 'independent', 'indian', 'indie',\n",
       "       'indipop', 'industrial', 'inspirational', 'instrumental',\n",
       "       'international', 'irish', 'jam', 'japanese', 'jazz', 'jewish',\n",
       "       'jpop', 'jungle', 'k-pop', 'karadeniz', 'karaoke', 'kayokyoku',\n",
       "       'korean', 'laiko', 'latin', 'latino', 'leftfield', 'local',\n",
       "       'lounge', 'loungeelectronic', 'lovers', 'malaysian', 'mandopop',\n",
       "       'marschmusik', 'meditative', 'mediterranean', 'melodic', 'metal',\n",
       "       'metalcore', 'mexican', 'middle', 'minimal', 'miscellaneous',\n",
       "       'modern', 'mood', 'mpb', 'muslim', 'native', 'neoklassik', 'neue',\n",
       "       'new', 'newage', 'newwave', 'nu', 'nujazz', 'numetal', 'oceania',\n",
       "       'old', 'opera', 'orchestral', 'other', 'piano', 'podcasts', 'pop',\n",
       "       'popdance', 'popelectronic', 'popeurodance', 'poprussian', 'post',\n",
       "       'posthardcore', 'postrock', 'power', 'progmetal', 'progressive',\n",
       "       'psychedelic', 'punjabi', 'punk', 'quebecois', 'ragga', 'ram',\n",
       "       'rancheras', 'rap', 'rave', 'reggae', 'reggaeton', 'regional',\n",
       "       'relax', 'religious', 'retro', 'rhythm', 'rnb', 'rnr', 'rock',\n",
       "       'rockabilly', 'rockalternative', 'rockindie', 'rockother',\n",
       "       'romance', 'roots', 'ruspop', 'rusrap', 'rusrock', 'russian',\n",
       "       'salsa', 'samba', 'scenic', 'schlager', 'self', 'sertanejo',\n",
       "       'shanson', 'shoegazing', 'showtunes', 'singer', 'ska', 'skarock',\n",
       "       'slow', 'smooth', 'soft', 'soul', 'soulful', 'sound', 'soundtrack',\n",
       "       'southern', 'specialty', 'speech', 'spiritual', 'sport',\n",
       "       'stonerrock', 'surf', 'swing', 'synthpop', 'synthrock',\n",
       "       'sängerportrait', 'tango', 'tanzorchester', 'taraftar', 'tatar',\n",
       "       'tech', 'techno', 'teen', 'thrash', 'top', 'traditional',\n",
       "       'tradjazz', 'trance', 'tribal', 'trip', 'triphop', 'tropical',\n",
       "       'türk', 'türkçe', 'ukrrock', 'unknown', 'urban', 'uzbek',\n",
       "       'variété', 'vi', 'videogame', 'vocal', 'western', 'world',\n",
       "       'worldbeat', 'ïîï', 'электроника'], dtype=object)"
      ]
     },
     "execution_count": 18,
     "metadata": {},
     "output_type": "execute_result"
    }
   ],
   "source": [
    "df['genre'].sort_values().unique()"
   ]
  },
  {
   "cell_type": "markdown",
   "metadata": {
    "id": "jz6a9-7HQUDd"
   },
   "source": [
    "**Выводы**\n",
    "\n",
    "Предобработка обнаружила три проблемы в данных:\n",
    "\n",
    "- нарушения в стиле заголовков,\n",
    "- пропущенные значения,\n",
    "- дубликаты — явные и неявные.\n",
    "\n",
    "Вы исправили заголовки, чтобы упростить работу с таблицей. Без дубликатов исследование станет более точным.\n",
    "\n",
    "Пропущенные значения вы заменили на `'unknown'`. Ещё предстоит увидеть, не повредят ли исследованию пропуски в колонке `genre`.\n",
    "\n",
    "Теперь можно перейти к проверке гипотез. "
   ]
  },
  {
   "cell_type": "markdown",
   "metadata": {
    "id": "WttZHXH0SqKk"
   },
   "source": [
    "## Проверка гипотез"
   ]
  },
  {
   "cell_type": "markdown",
   "metadata": {
    "id": "Im936VVi_Zcu"
   },
   "source": [
    "### Сравнение поведения пользователей двух столиц"
   ]
  },
  {
   "cell_type": "markdown",
   "metadata": {
    "id": "nwt_MuaL_Zcu"
   },
   "source": [
    "Первая гипотеза утверждает, что пользователи по-разному слушают музыку в Москве и Санкт-Петербурге. Проверьте это предположение по данным о трёх днях недели — понедельнике, среде и пятнице. Для этого:\n",
    "\n",
    "* Разделите пользователей Москвы и Санкт-Петербурга\n",
    "* Сравните, сколько треков послушала каждая группа пользователей в понедельник, среду и пятницу.\n"
   ]
  },
  {
   "cell_type": "markdown",
   "metadata": {
    "id": "8Dw_YMmT_Zcu"
   },
   "source": [
    "Для тренировки сначала выполните каждый из расчётов по отдельности. \n",
    "\n",
    "Оцените активность пользователей в каждом городе. Сгруппируйте данные по городу и посчитайте прослушивания в каждой группе.\n",
    "\n"
   ]
  },
  {
   "cell_type": "code",
   "execution_count": 19,
   "metadata": {
    "id": "0_Qs96oh_Zcu"
   },
   "outputs": [
    {
     "data": {
      "text/plain": [
       "city\n",
       "Moscow              42741\n",
       "Saint-Petersburg    18512\n",
       "Name: track, dtype: int64"
      ]
     },
     "execution_count": 19,
     "metadata": {},
     "output_type": "execute_result"
    }
   ],
   "source": [
    "df.groupby('city')['track'].count()"
   ]
  },
  {
   "cell_type": "markdown",
   "metadata": {
    "id": "dzli3w8o_Zcu"
   },
   "source": [
    "В Москве прослушиваний больше, чем в Петербурге. Из этого не следует, что московские пользователи чаще слушают музыку. Просто самих пользователей в Москве больше.\n",
    "\n",
    "Теперь сгруппируйте данные по дню недели и подсчитайте прослушивания в понедельник, среду и пятницу. Учтите, что в данных есть информация только о прослушиваниях только за эти дни.\n"
   ]
  },
  {
   "cell_type": "code",
   "execution_count": 20,
   "metadata": {
    "id": "uZMKjiJz_Zcu"
   },
   "outputs": [
    {
     "data": {
      "text/plain": [
       "day\n",
       "Friday       21840\n",
       "Monday       21354\n",
       "Wednesday    18059\n",
       "Name: track, dtype: int64"
      ]
     },
     "execution_count": 20,
     "metadata": {},
     "output_type": "execute_result"
    }
   ],
   "source": [
    "df.groupby('day')['track'].count()"
   ]
  },
  {
   "cell_type": "markdown",
   "metadata": {
    "id": "cC2tNrlL_Zcu"
   },
   "source": [
    "В среднем пользователи из двух городов менее активны по средам. Но картина может измениться, если рассмотреть каждый город в отдельности."
   ]
  },
  {
   "cell_type": "markdown",
   "metadata": {
    "id": "POzs8bGa_Zcu"
   },
   "source": [
    "Вы видели, как работает группировка по городу и по дням недели. Теперь напишите функцию, которая объединит два эти расчёта.\n",
    "\n",
    "Создайте функцию `number_tracks()`, которая посчитает прослушивания для заданного дня и города. Ей понадобятся два параметра:\n",
    "* день недели,\n",
    "* название города.\n",
    "\n",
    "В функции сохраните в переменную строки исходной таблицы, у которых значение:\n",
    "  * в колонке `day` равно параметру `day`,\n",
    "  * в колонке `city` равно параметру `city`.\n",
    "\n",
    "Для этого примените последовательную фильтрацию с логической индексацией.\n",
    "\n",
    "Затем посчитайте значения в столбце `user_id` получившейся таблицы. Результат сохраните в новую переменную. Верните эту переменную из функции."
   ]
  },
  {
   "cell_type": "code",
   "execution_count": 21,
   "metadata": {
    "id": "Nz3GdQB1_Zcu"
   },
   "outputs": [],
   "source": [
    "def number_tracks(day, city):\n",
    "    track_list = df.loc[(df['day']==day) & (df['city']==city)]\n",
    "    track_list_count=track_list['user_id'].count()\n",
    "    return track_list_count"
   ]
  },
  {
   "cell_type": "markdown",
   "metadata": {
    "id": "ytf7xFrFJQ2r"
   },
   "source": [
    "Вызовите `number_tracks()` шесть раз, меняя значение параметров — так, чтобы получить данные для каждого города в каждый из трёх дней."
   ]
  },
  {
   "cell_type": "code",
   "execution_count": 22,
   "metadata": {
    "id": "rJcRATNQ_Zcu"
   },
   "outputs": [
    {
     "data": {
      "text/plain": [
       "15740"
      ]
     },
     "execution_count": 22,
     "metadata": {},
     "output_type": "execute_result"
    }
   ],
   "source": [
    "# количество прослушиваний в Москве по понедельникам\n",
    "number_tracks('Monday','Moscow')"
   ]
  },
  {
   "cell_type": "code",
   "execution_count": 23,
   "metadata": {
    "id": "hq_ncZ5T_Zcu"
   },
   "outputs": [
    {
     "data": {
      "text/plain": [
       "5614"
      ]
     },
     "execution_count": 23,
     "metadata": {},
     "output_type": "execute_result"
    }
   ],
   "source": [
    "# количество прослушиваний в Санкт-Петербурге по понедельникам\n",
    "number_tracks('Monday','Saint-Petersburg')"
   ]
  },
  {
   "cell_type": "code",
   "execution_count": 24,
   "metadata": {
    "id": "_NTy2VPU_Zcu"
   },
   "outputs": [
    {
     "data": {
      "text/plain": [
       "11056"
      ]
     },
     "execution_count": 24,
     "metadata": {},
     "output_type": "execute_result"
    }
   ],
   "source": [
    "# количество прослушиваний в Москве по средам\n",
    "number_tracks('Wednesday','Moscow')"
   ]
  },
  {
   "cell_type": "code",
   "execution_count": 25,
   "metadata": {
    "id": "j2y3TAwo_Zcu"
   },
   "outputs": [
    {
     "data": {
      "text/plain": [
       "7003"
      ]
     },
     "execution_count": 25,
     "metadata": {},
     "output_type": "execute_result"
    }
   ],
   "source": [
    "# количество прослушиваний в Санкт-Петербурге по средам\n",
    "number_tracks('Wednesday','Saint-Petersburg')"
   ]
  },
  {
   "cell_type": "code",
   "execution_count": 26,
   "metadata": {
    "id": "vYDw5u_K_Zcu"
   },
   "outputs": [
    {
     "data": {
      "text/plain": [
       "15945"
      ]
     },
     "execution_count": 26,
     "metadata": {},
     "output_type": "execute_result"
    }
   ],
   "source": [
    "# количество прослушиваний в Москве по пятницам\n",
    "number_tracks('Friday','Moscow')"
   ]
  },
  {
   "cell_type": "code",
   "execution_count": 27,
   "metadata": {
    "id": "8_yzFtW3_Zcu"
   },
   "outputs": [
    {
     "data": {
      "text/plain": [
       "5895"
      ]
     },
     "execution_count": 27,
     "metadata": {},
     "output_type": "execute_result"
    }
   ],
   "source": [
    "# количество прослушиваний в Санкт-Петербурге по пятницам\n",
    "number_tracks('Friday','Saint-Petersburg')"
   ]
  },
  {
   "cell_type": "markdown",
   "metadata": {
    "id": "7QXffbO-_Zcu"
   },
   "source": [
    "Создайте c помощью конструктора `pd.DataFrame` таблицу, где\n",
    "* названия колонок — `['city', 'monday', 'wednesday', 'friday']`;\n",
    "* данные — результаты, которые вы получили с помощью `number_tracks`."
   ]
  },
  {
   "cell_type": "code",
   "execution_count": 28,
   "metadata": {
    "id": "APAcLpOr_Zcu"
   },
   "outputs": [
    {
     "data": {
      "text/html": [
       "<div>\n",
       "<style scoped>\n",
       "    .dataframe tbody tr th:only-of-type {\n",
       "        vertical-align: middle;\n",
       "    }\n",
       "\n",
       "    .dataframe tbody tr th {\n",
       "        vertical-align: top;\n",
       "    }\n",
       "\n",
       "    .dataframe thead th {\n",
       "        text-align: right;\n",
       "    }\n",
       "</style>\n",
       "<table border=\"1\" class=\"dataframe\">\n",
       "  <thead>\n",
       "    <tr style=\"text-align: right;\">\n",
       "      <th></th>\n",
       "      <th>city</th>\n",
       "      <th>monday</th>\n",
       "      <th>wednesday</th>\n",
       "      <th>friday</th>\n",
       "    </tr>\n",
       "  </thead>\n",
       "  <tbody>\n",
       "    <tr>\n",
       "      <td>0</td>\n",
       "      <td>Moscow</td>\n",
       "      <td>15740</td>\n",
       "      <td>11056</td>\n",
       "      <td>15945</td>\n",
       "    </tr>\n",
       "    <tr>\n",
       "      <td>1</td>\n",
       "      <td>Saint-Petersburg</td>\n",
       "      <td>5614</td>\n",
       "      <td>7003</td>\n",
       "      <td>5895</td>\n",
       "    </tr>\n",
       "  </tbody>\n",
       "</table>\n",
       "</div>"
      ],
      "text/plain": [
       "               city  monday  wednesday  friday\n",
       "0            Moscow   15740      11056   15945\n",
       "1  Saint-Petersburg    5614       7003    5895"
      ]
     },
     "metadata": {},
     "output_type": "display_data"
    }
   ],
   "source": [
    "data=[['Moscow',15740,11056,15945],\n",
    "      ['Saint-Petersburg',5614,7003,5895]]\n",
    "result_table = pd.DataFrame(data=data, columns=['city', 'monday', 'wednesday', 'friday'])\n",
    "display(result_table)"
   ]
  },
  {
   "cell_type": "markdown",
   "metadata": {
    "id": "-EgPIHYu_Zcu"
   },
   "source": [
    "**Выводы**\n",
    "\n",
    "Данные показывают разницу поведения пользователей:\n",
    "\n",
    "- В Москве пик прослушиваний приходится на понедельник и пятницу, а в среду заметен спад.\n",
    "- В Петербурге, наоборот, больше слушают музыку по средам. Активность в понедельник и пятницу здесь почти в равной мере уступает среде.\n",
    "\n",
    "Значит, данные говорят в пользу первой гипотезы."
   ]
  },
  {
   "cell_type": "markdown",
   "metadata": {
    "id": "atZAxtq4_Zcu"
   },
   "source": [
    "### Музыка в начале и в конце недели"
   ]
  },
  {
   "cell_type": "markdown",
   "metadata": {
    "id": "eXrQqXFH_Zcu"
   },
   "source": [
    "Согласно второй гипотезе, утром в понедельник в Москве преобладают одни жанры, а в Петербурге — другие. Так же и вечером пятницы преобладают разные жанры — в зависимости от города."
   ]
  },
  {
   "cell_type": "markdown",
   "metadata": {
    "id": "S8UcW6Hw_Zcu"
   },
   "source": [
    "Сохраните таблицы с данными в две переменные:\n",
    "* по Москве — в `moscow_general`;\n",
    "* по Санкт-Петербургу — в `spb_general`."
   ]
  },
  {
   "cell_type": "code",
   "execution_count": 29,
   "metadata": {
    "id": "qeaFfM_P_Zcu"
   },
   "outputs": [],
   "source": [
    "moscow_general=df[df.city=='Moscow']"
   ]
  },
  {
   "cell_type": "code",
   "execution_count": 30,
   "metadata": {
    "id": "ORaVRKto_Zcu"
   },
   "outputs": [],
   "source": [
    "spb_general=df[df.city=='Saint-Petersburg']"
   ]
  },
  {
   "cell_type": "markdown",
   "metadata": {
    "id": "MEJV-CX2_Zcu"
   },
   "source": [
    "Создайте функцию `genre_weekday()` с четырьмя параметрами:\n",
    "* таблица (датафрейм) с данными,\n",
    "* день недели,\n",
    "* начальная временная метка в формате 'hh:mm', \n",
    "* последняя временная метка в формате 'hh:mm'.\n",
    "\n",
    "Функция должна вернуть информацию о топ-10 жанров тех треков, которые прослушивали в указанный день, в промежутке между двумя отметками времени."
   ]
  },
  {
   "cell_type": "code",
   "execution_count": 31,
   "metadata": {
    "id": "laJT9BYl_Zcu"
   },
   "outputs": [],
   "source": [
    "def genre_weekday(table, day, time1, time2):\n",
    "    genre_df = table.loc[(table.day==day) & (table.time>time1) & (table.time<time2)]\n",
    "    genre_df_count = genre_df.groupby('genre')['track'].count()\n",
    "    genre_df_sorted = genre_df_count.sort_values(ascending=False)\n",
    "    return genre_df_sorted[:10]"
   ]
  },
  {
   "cell_type": "markdown",
   "metadata": {
    "id": "la2s2_PF_Zcu"
   },
   "source": [
    "Cравните результаты функции `genre_weekday()` для Москвы и Санкт-Петербурга в понедельник утром (с 7:00 до 11:00) и в пятницу вечером (с 17:00 до 23:00):"
   ]
  },
  {
   "cell_type": "code",
   "execution_count": 32,
   "metadata": {
    "id": "yz7itPUQ_Zcu"
   },
   "outputs": [
    {
     "data": {
      "text/plain": [
       "genre\n",
       "pop            781\n",
       "dance          549\n",
       "electronic     480\n",
       "rock           474\n",
       "hiphop         286\n",
       "ruspop         186\n",
       "world          181\n",
       "rusrap         175\n",
       "alternative    164\n",
       "unknown        161\n",
       "Name: track, dtype: int64"
      ]
     },
     "execution_count": 32,
     "metadata": {},
     "output_type": "execute_result"
    }
   ],
   "source": [
    "genre_weekday(moscow_general, 'Monday', '07:00', '11:00')"
   ]
  },
  {
   "cell_type": "code",
   "execution_count": 33,
   "metadata": {
    "id": "kwUcHPdy_Zcu"
   },
   "outputs": [
    {
     "data": {
      "text/plain": [
       "genre\n",
       "pop            218\n",
       "dance          182\n",
       "rock           162\n",
       "electronic     147\n",
       "hiphop          80\n",
       "ruspop          64\n",
       "alternative     58\n",
       "rusrap          55\n",
       "jazz            44\n",
       "classical       40\n",
       "Name: track, dtype: int64"
      ]
     },
     "execution_count": 33,
     "metadata": {},
     "output_type": "execute_result"
    }
   ],
   "source": [
    "# вызов функции для утра понедельника в Петербурге (вместо df — таблица spb_general)\n",
    "genre_weekday(spb_general, 'Monday', '07:00', '11:00')"
   ]
  },
  {
   "cell_type": "code",
   "execution_count": 34,
   "metadata": {
    "id": "EzXVRE1o_Zcu"
   },
   "outputs": [
    {
     "data": {
      "text/plain": [
       "genre\n",
       "pop            713\n",
       "rock           517\n",
       "dance          495\n",
       "electronic     482\n",
       "hiphop         273\n",
       "world          208\n",
       "ruspop         170\n",
       "alternative    163\n",
       "classical      163\n",
       "rusrap         142\n",
       "Name: track, dtype: int64"
      ]
     },
     "execution_count": 34,
     "metadata": {},
     "output_type": "execute_result"
    }
   ],
   "source": [
    "# вызов функции для вечера пятницы в Москве\n",
    "genre_weekday(moscow_general, 'Friday', '17:00', '23:00')"
   ]
  },
  {
   "cell_type": "code",
   "execution_count": 35,
   "metadata": {
    "id": "JZaEKu5v_Zcu"
   },
   "outputs": [
    {
     "data": {
      "text/plain": [
       "genre\n",
       "pop            256\n",
       "rock           216\n",
       "electronic     216\n",
       "dance          210\n",
       "hiphop          97\n",
       "alternative     63\n",
       "jazz            61\n",
       "classical       60\n",
       "rusrap          59\n",
       "world           54\n",
       "Name: track, dtype: int64"
      ]
     },
     "execution_count": 35,
     "metadata": {},
     "output_type": "execute_result"
    }
   ],
   "source": [
    "# вызов функции для вечера пятницы в Петербурге\n",
    "genre_weekday(spb_general, 'Friday', '17:00', '23:00')"
   ]
  },
  {
   "cell_type": "markdown",
   "metadata": {
    "id": "wrCe4MNX_Zcu"
   },
   "source": [
    "**Выводы**\n",
    "\n",
    "Если сравнить топ-10 жанров в понедельник утром, можно сделать такие выводы:\n",
    "\n",
    "1. В Москве и Петербурге слушают похожую музыку. Единственное отличие — в московский рейтинг вошёл жанр “world”, а в петербургский — джаз и классика.\n",
    "\n",
    "2. В Москве пропущенных значений оказалось так много, что значение `'unknown'` заняло десятое место среди самых популярных жанров. Значит, пропущенные значения занимают существенную долю в данных и угрожают достоверности исследования.\n",
    "\n",
    "Вечер пятницы не меняет эту картину. Некоторые жанры поднимаются немного выше, другие спускаются, но в целом топ-10 остаётся тем же самым.\n",
    "\n",
    "Таким образом, вторая гипотеза подтвердилась лишь частично:\n",
    "* Пользователи слушают похожую музыку в начале недели и в конце.\n",
    "* Разница между Москвой и Петербургом не слишком выражена. В Москве чаще слушают русскую популярную музыку, в Петербурге — джаз.\n",
    "\n",
    "Однако пропуски в данных ставят под сомнение этот результат. В Москве их так много, что рейтинг топ-10 мог бы выглядеть иначе, если бы не утерянные  данные о жанрах."
   ]
  },
  {
   "cell_type": "markdown",
   "metadata": {
    "id": "JolODAqr_Zcu"
   },
   "source": [
    "### Жанровые предпочтения в Москве и Петербурге\n",
    "\n",
    "Гипотеза: Петербург — столица рэпа, музыку этого жанра там слушают чаще, чем в Москве.  А Москва — город контрастов, в котором, тем не менее, преобладает поп-музыка."
   ]
  },
  {
   "cell_type": "markdown",
   "metadata": {
    "id": "DlegSvaT_Zcu"
   },
   "source": [
    "Сгруппируйте таблицу `moscow_general` по жанру и посчитайте прослушивания треков каждого жанра методом `count()`. Затем отсортируйте результат в порядке убывания и сохраните его в таблице `moscow_genres`."
   ]
  },
  {
   "cell_type": "code",
   "execution_count": 36,
   "metadata": {
    "id": "r19lIPke_Zcu"
   },
   "outputs": [],
   "source": [
    "moscow_genres=moscow_general.groupby('genre')['genre'].count().sort_values(ascending=False)"
   ]
  },
  {
   "cell_type": "markdown",
   "metadata": {
    "id": "6kMuomxTiIr8"
   },
   "source": [
    "Выведите на экран первые десять строк `moscow_genres`:"
   ]
  },
  {
   "cell_type": "code",
   "execution_count": 37,
   "metadata": {
    "id": "WhCSooF8_Zcv"
   },
   "outputs": [
    {
     "data": {
      "text/plain": [
       "genre\n",
       "pop            5892\n",
       "dance          4435\n",
       "rock           3965\n",
       "electronic     3786\n",
       "hiphop         2096\n",
       "classical      1616\n",
       "world          1432\n",
       "alternative    1379\n",
       "ruspop         1372\n",
       "rusrap         1161\n",
       "Name: genre, dtype: int64"
      ]
     },
     "metadata": {},
     "output_type": "display_data"
    }
   ],
   "source": [
    "display(moscow_genres[:10])"
   ]
  },
  {
   "cell_type": "markdown",
   "metadata": {
    "id": "cnPG2vnN_Zcv"
   },
   "source": [
    "Теперь повторите то же и для Петербурга.\n",
    "\n",
    "Сгруппируйте таблицу `spb_general` по жанру. Посчитайте прослушивания треков каждого жанра. Результат отсортируйте в порядке убывания и сохраните в таблице `spb_genres`:\n"
   ]
  },
  {
   "cell_type": "code",
   "execution_count": 38,
   "metadata": {
    "id": "gluLIpE7_Zcv"
   },
   "outputs": [],
   "source": [
    "spb_genres=spb_general.groupby('genre')['genre'].count().sort_values(ascending=False)"
   ]
  },
  {
   "cell_type": "markdown",
   "metadata": {
    "id": "5Doha_ODgyQ8"
   },
   "source": [
    "Выведите на экран первые десять строк `spb_genres`:"
   ]
  },
  {
   "cell_type": "code",
   "execution_count": 39,
   "metadata": {
    "id": "uaGJHjVU_Zcv"
   },
   "outputs": [
    {
     "data": {
      "text/plain": [
       "genre\n",
       "pop            2431\n",
       "dance          1932\n",
       "rock           1879\n",
       "electronic     1736\n",
       "hiphop          960\n",
       "alternative     649\n",
       "classical       646\n",
       "rusrap          564\n",
       "ruspop          538\n",
       "world           515\n",
       "Name: genre, dtype: int64"
      ]
     },
     "execution_count": 39,
     "metadata": {},
     "output_type": "execute_result"
    }
   ],
   "source": [
    "spb_genres[:10]"
   ]
  },
  {
   "cell_type": "markdown",
   "metadata": {
    "id": "RY51YJYu_Zcv"
   },
   "source": [
    "**Выводы**"
   ]
  },
  {
   "cell_type": "markdown",
   "metadata": {
    "id": "nVhnJEm__Zcv"
   },
   "source": [
    "Гипотеза частично подтвердилась:\n",
    "* Поп-музыка — самый популярный жанр в Москве, как и предполагала гипотеза. Более того, в топ-10 жанров встречается близкий жанр — русская популярная музыка.\n",
    "* Вопреки ожиданиям, рэп одинаково популярен в Москве и Петербурге. \n"
   ]
  },
  {
   "cell_type": "markdown",
   "metadata": {
    "id": "ykKQ0N65_Zcv"
   },
   "source": [
    "## Итоги исследования"
   ]
  },
  {
   "cell_type": "markdown",
   "metadata": {
    "id": "tjUwbHb3_Zcv"
   },
   "source": [
    "Вы проверили три гипотезы и установили:\n",
    "\n",
    "1. День недели по-разному влияет на активность пользователей в Москве и Петербурге. \n",
    "\n",
    "Первая гипотеза полностью подтвердилась.\n",
    "\n",
    "2. Музыкальные предпочтения не сильно меняются в течение недели — будь то Москва или Петербург. Небольшие различия заметны в начале недели, по понедельникам:\n",
    "* в Москве слушают музыку жанра “world”,\n",
    "* в Петербурге — джаз и классику.\n",
    "\n",
    "Таким образом, вторая гипотеза подтвердилась лишь отчасти. Этот результат мог оказаться иным, если бы не пропуски в данных.\n",
    "\n",
    "3. Во вкусах пользователей Москвы и Петербурга больше общего чем различий. Вопреки ожиданиям, предпочтения жанров в Петербурге напоминают московские.\n",
    "\n",
    "Третья гипотеза не подтвердилась. Если различия в предпочтениях и существуют, на основной массе пользователей они незаметны.\n",
    "\n",
    "**На практике исследования содержат проверки статистических гипотез.**\n",
    "Из данных одного сервиса не всегда можно сделать вывод о всех жителях города.\n",
    "Проверки статистических гипотез покажут, насколько они достоверны, исходя из имеющихся данных. \n",
    "С методами проверок гипотез вы ещё познакомитесь в следующих темах."
   ]
  }
 ],
 "metadata": {
  "ExecuteTimeLog": [
   {
    "duration": 588,
    "start_time": "2021-12-06T20:34:47.615Z"
   },
   {
    "duration": 156,
    "start_time": "2021-12-06T20:34:50.823Z"
   },
   {
    "duration": 17,
    "start_time": "2021-12-06T20:34:53.924Z"
   },
   {
    "duration": 24,
    "start_time": "2021-12-06T20:36:27.707Z"
   },
   {
    "duration": 4,
    "start_time": "2021-12-06T20:40:20.332Z"
   },
   {
    "duration": 287,
    "start_time": "2021-12-06T20:40:35.327Z"
   },
   {
    "duration": 4,
    "start_time": "2021-12-06T20:40:40.206Z"
   },
   {
    "duration": 32,
    "start_time": "2021-12-06T20:43:17.317Z"
   },
   {
    "duration": 4,
    "start_time": "2021-12-06T20:50:49.059Z"
   },
   {
    "duration": 24,
    "start_time": "2021-12-06T20:51:02.293Z"
   },
   {
    "duration": 20,
    "start_time": "2021-12-06T20:51:09.157Z"
   },
   {
    "duration": 5,
    "start_time": "2021-12-06T20:51:11.583Z"
   },
   {
    "duration": 231,
    "start_time": "2021-12-06T20:54:29.076Z"
   },
   {
    "duration": 313,
    "start_time": "2021-12-06T20:54:48.315Z"
   },
   {
    "duration": 25,
    "start_time": "2021-12-06T20:54:55.883Z"
   },
   {
    "duration": 30,
    "start_time": "2021-12-06T20:55:22.415Z"
   },
   {
    "duration": 244,
    "start_time": "2021-12-06T20:56:29.862Z"
   },
   {
    "duration": 28,
    "start_time": "2021-12-06T20:56:36.205Z"
   },
   {
    "duration": 27,
    "start_time": "2021-12-06T20:59:14.208Z"
   },
   {
    "duration": 19,
    "start_time": "2021-12-06T21:04:40.267Z"
   },
   {
    "duration": 25,
    "start_time": "2021-12-06T21:05:05.972Z"
   },
   {
    "duration": 62,
    "start_time": "2021-12-06T21:06:10.717Z"
   },
   {
    "duration": 79,
    "start_time": "2021-12-06T21:07:14.237Z"
   },
   {
    "duration": 56,
    "start_time": "2021-12-06T21:07:36.040Z"
   },
   {
    "duration": 372,
    "start_time": "2021-12-07T08:10:21.522Z"
   },
   {
    "duration": 280,
    "start_time": "2021-12-07T08:20:32.669Z"
   },
   {
    "duration": 270,
    "start_time": "2021-12-07T08:21:43.898Z"
   },
   {
    "duration": 257,
    "start_time": "2021-12-07T08:21:48.800Z"
   },
   {
    "duration": 596,
    "start_time": "2021-12-07T08:21:59.887Z"
   },
   {
    "duration": 145,
    "start_time": "2021-12-07T08:22:01.147Z"
   },
   {
    "duration": 17,
    "start_time": "2021-12-07T08:22:02.335Z"
   },
   {
    "duration": 24,
    "start_time": "2021-12-07T08:22:04.491Z"
   },
   {
    "duration": 4,
    "start_time": "2021-12-07T08:22:10.871Z"
   },
   {
    "duration": 20,
    "start_time": "2021-12-07T08:22:12.463Z"
   },
   {
    "duration": 4,
    "start_time": "2021-12-07T08:22:16.325Z"
   },
   {
    "duration": 22,
    "start_time": "2021-12-07T08:22:18.601Z"
   },
   {
    "duration": 16,
    "start_time": "2021-12-07T08:22:26.777Z"
   },
   {
    "duration": 22,
    "start_time": "2021-12-07T08:22:29.010Z"
   },
   {
    "duration": 60,
    "start_time": "2021-12-07T08:22:34.460Z"
   },
   {
    "duration": 72,
    "start_time": "2021-12-07T08:22:36.446Z"
   },
   {
    "duration": 53,
    "start_time": "2021-12-07T08:22:37.825Z"
   },
   {
    "duration": 373,
    "start_time": "2021-12-07T08:22:41.614Z"
   },
   {
    "duration": 282,
    "start_time": "2021-12-07T08:23:02.458Z"
   },
   {
    "duration": 270,
    "start_time": "2021-12-07T08:24:03.379Z"
   },
   {
    "duration": 41,
    "start_time": "2021-12-07T08:24:19.919Z"
   },
   {
    "duration": 643,
    "start_time": "2021-12-07T08:24:33.701Z"
   },
   {
    "duration": 185,
    "start_time": "2021-12-07T08:24:34.347Z"
   },
   {
    "duration": 27,
    "start_time": "2021-12-07T08:24:34.534Z"
   },
   {
    "duration": 37,
    "start_time": "2021-12-07T08:24:34.564Z"
   },
   {
    "duration": 5,
    "start_time": "2021-12-07T08:24:34.603Z"
   },
   {
    "duration": 48,
    "start_time": "2021-12-07T08:24:34.610Z"
   },
   {
    "duration": 5,
    "start_time": "2021-12-07T08:24:34.660Z"
   },
   {
    "duration": 25,
    "start_time": "2021-12-07T08:24:34.669Z"
   },
   {
    "duration": 54,
    "start_time": "2021-12-07T08:24:34.697Z"
   },
   {
    "duration": 23,
    "start_time": "2021-12-07T08:24:34.752Z"
   },
   {
    "duration": 77,
    "start_time": "2021-12-07T08:24:34.776Z"
   },
   {
    "duration": 89,
    "start_time": "2021-12-07T08:24:34.855Z"
   },
   {
    "duration": 54,
    "start_time": "2021-12-07T08:24:34.946Z"
   },
   {
    "duration": 62,
    "start_time": "2021-12-07T08:24:35.002Z"
   },
   {
    "duration": 3,
    "start_time": "2021-12-07T08:24:35.066Z"
   },
   {
    "duration": 6,
    "start_time": "2021-12-07T08:24:35.070Z"
   },
   {
    "duration": 4,
    "start_time": "2021-12-07T08:24:35.078Z"
   },
   {
    "duration": 5,
    "start_time": "2021-12-07T08:24:35.083Z"
   },
   {
    "duration": 5,
    "start_time": "2021-12-07T08:24:35.089Z"
   },
   {
    "duration": 5,
    "start_time": "2021-12-07T08:24:35.095Z"
   },
   {
    "duration": 7,
    "start_time": "2021-12-07T08:24:35.102Z"
   },
   {
    "duration": 34,
    "start_time": "2021-12-07T08:24:35.110Z"
   },
   {
    "duration": 2,
    "start_time": "2021-12-07T08:24:35.147Z"
   },
   {
    "duration": 5,
    "start_time": "2021-12-07T08:24:35.151Z"
   },
   {
    "duration": 4,
    "start_time": "2021-12-07T08:24:35.157Z"
   },
   {
    "duration": 7,
    "start_time": "2021-12-07T08:24:35.162Z"
   },
   {
    "duration": 5,
    "start_time": "2021-12-07T08:24:35.171Z"
   },
   {
    "duration": 11,
    "start_time": "2021-12-07T08:24:35.178Z"
   },
   {
    "duration": 5,
    "start_time": "2021-12-07T08:24:35.191Z"
   },
   {
    "duration": 4,
    "start_time": "2021-12-07T08:24:35.198Z"
   },
   {
    "duration": 8,
    "start_time": "2021-12-07T08:24:35.204Z"
   },
   {
    "duration": 31,
    "start_time": "2021-12-07T08:24:35.214Z"
   },
   {
    "duration": 8,
    "start_time": "2021-12-07T08:24:35.247Z"
   },
   {
    "duration": 5,
    "start_time": "2021-12-07T08:24:35.257Z"
   },
   {
    "duration": 5,
    "start_time": "2021-12-07T08:24:35.264Z"
   },
   {
    "duration": 5,
    "start_time": "2021-12-07T08:24:35.271Z"
   },
   {
    "duration": 5,
    "start_time": "2021-12-07T08:24:35.277Z"
   },
   {
    "duration": 6,
    "start_time": "2021-12-07T08:24:35.283Z"
   },
   {
    "duration": 602,
    "start_time": "2021-12-07T08:32:02.267Z"
   },
   {
    "duration": 139,
    "start_time": "2021-12-07T08:32:02.871Z"
   },
   {
    "duration": 18,
    "start_time": "2021-12-07T08:32:03.013Z"
   },
   {
    "duration": 35,
    "start_time": "2021-12-07T08:32:03.045Z"
   },
   {
    "duration": 4,
    "start_time": "2021-12-07T08:32:03.082Z"
   },
   {
    "duration": 43,
    "start_time": "2021-12-07T08:32:03.087Z"
   },
   {
    "duration": 20,
    "start_time": "2021-12-07T08:32:03.132Z"
   },
   {
    "duration": 26,
    "start_time": "2021-12-07T08:32:03.155Z"
   },
   {
    "duration": 19,
    "start_time": "2021-12-07T08:32:03.183Z"
   },
   {
    "duration": 33,
    "start_time": "2021-12-07T08:32:03.204Z"
   },
   {
    "duration": 78,
    "start_time": "2021-12-07T08:32:03.239Z"
   },
   {
    "duration": 80,
    "start_time": "2021-12-07T08:32:03.318Z"
   },
   {
    "duration": 59,
    "start_time": "2021-12-07T08:32:03.400Z"
   },
   {
    "duration": 38,
    "start_time": "2021-12-07T08:32:03.461Z"
   },
   {
    "duration": 14,
    "start_time": "2021-12-07T08:32:03.501Z"
   },
   {
    "duration": 14,
    "start_time": "2021-12-07T08:32:03.516Z"
   },
   {
    "duration": 8,
    "start_time": "2021-12-07T08:32:03.531Z"
   },
   {
    "duration": 8,
    "start_time": "2021-12-07T08:32:03.541Z"
   },
   {
    "duration": 18,
    "start_time": "2021-12-07T08:32:03.551Z"
   },
   {
    "duration": 26,
    "start_time": "2021-12-07T08:32:03.570Z"
   },
   {
    "duration": 12,
    "start_time": "2021-12-07T08:32:03.597Z"
   },
   {
    "duration": 6,
    "start_time": "2021-12-07T08:32:03.610Z"
   },
   {
    "duration": 13,
    "start_time": "2021-12-07T08:32:03.619Z"
   },
   {
    "duration": 12,
    "start_time": "2021-12-07T08:32:03.634Z"
   },
   {
    "duration": 36,
    "start_time": "2021-12-07T08:32:03.648Z"
   },
   {
    "duration": 16,
    "start_time": "2021-12-07T08:32:03.685Z"
   },
   {
    "duration": 14,
    "start_time": "2021-12-07T08:32:03.702Z"
   },
   {
    "duration": 11,
    "start_time": "2021-12-07T08:32:03.717Z"
   },
   {
    "duration": 15,
    "start_time": "2021-12-07T08:32:03.729Z"
   },
   {
    "duration": 25,
    "start_time": "2021-12-07T08:32:03.745Z"
   },
   {
    "duration": 38,
    "start_time": "2021-12-07T08:32:03.771Z"
   },
   {
    "duration": 17,
    "start_time": "2021-12-07T08:32:03.810Z"
   },
   {
    "duration": 39,
    "start_time": "2021-12-07T08:32:03.829Z"
   },
   {
    "duration": 29,
    "start_time": "2021-12-07T08:32:03.870Z"
   },
   {
    "duration": 21,
    "start_time": "2021-12-07T08:32:03.901Z"
   },
   {
    "duration": 38,
    "start_time": "2021-12-07T08:32:03.924Z"
   },
   {
    "duration": 17,
    "start_time": "2021-12-07T08:32:03.964Z"
   },
   {
    "duration": 24,
    "start_time": "2021-12-07T08:32:03.983Z"
   },
   {
    "duration": 3,
    "start_time": "2021-12-07T08:34:20.820Z"
   },
   {
    "duration": 3,
    "start_time": "2021-12-07T08:35:20.538Z"
   },
   {
    "duration": 3,
    "start_time": "2021-12-07T08:42:25.151Z"
   },
   {
    "duration": 4,
    "start_time": "2021-12-07T08:42:30.918Z"
   },
   {
    "duration": 5,
    "start_time": "2021-12-07T08:42:46.294Z"
   },
   {
    "duration": 43,
    "start_time": "2021-12-07T08:46:27.036Z"
   },
   {
    "duration": 586,
    "start_time": "2021-12-07T08:51:22.480Z"
   },
   {
    "duration": 469,
    "start_time": "2021-12-07T08:51:42.664Z"
   },
   {
    "duration": 42,
    "start_time": "2021-12-07T08:53:05.110Z"
   },
   {
    "duration": 324,
    "start_time": "2021-12-07T08:53:22.892Z"
   },
   {
    "duration": 42,
    "start_time": "2021-12-07T08:53:42.056Z"
   },
   {
    "duration": 340,
    "start_time": "2021-12-07T08:54:00.262Z"
   },
   {
    "duration": 45,
    "start_time": "2021-12-07T08:54:15.614Z"
   },
   {
    "duration": 89,
    "start_time": "2021-12-07T09:00:58.053Z"
   },
   {
    "duration": 126,
    "start_time": "2021-12-07T09:01:11.445Z"
   },
   {
    "duration": 99,
    "start_time": "2021-12-07T09:01:45.634Z"
   },
   {
    "duration": 151,
    "start_time": "2021-12-07T09:03:36.088Z"
   },
   {
    "duration": 125,
    "start_time": "2021-12-07T09:03:44.281Z"
   },
   {
    "duration": 93,
    "start_time": "2021-12-07T09:03:49.453Z"
   },
   {
    "duration": 90,
    "start_time": "2021-12-07T09:04:26.428Z"
   },
   {
    "duration": 87,
    "start_time": "2021-12-07T09:04:44.304Z"
   },
   {
    "duration": 98,
    "start_time": "2021-12-07T09:05:44.547Z"
   },
   {
    "duration": 90,
    "start_time": "2021-12-07T09:06:01.943Z"
   },
   {
    "duration": 10173,
    "start_time": "2021-12-07T09:06:09.079Z"
   },
   {
    "duration": 10284,
    "start_time": "2021-12-07T09:06:35.539Z"
   },
   {
    "duration": 10251,
    "start_time": "2021-12-07T09:07:02.213Z"
   },
   {
    "duration": 98,
    "start_time": "2021-12-07T09:07:39.822Z"
   },
   {
    "duration": 90,
    "start_time": "2021-12-07T09:07:44.890Z"
   },
   {
    "duration": 93,
    "start_time": "2021-12-07T09:08:01.621Z"
   },
   {
    "duration": 10520,
    "start_time": "2021-12-07T09:08:23.272Z"
   },
   {
    "duration": 340,
    "start_time": "2021-12-07T10:49:10.821Z"
   },
   {
    "duration": 792,
    "start_time": "2021-12-07T10:49:29.658Z"
   },
   {
    "duration": 57,
    "start_time": "2021-12-07T10:49:58.913Z"
   },
   {
    "duration": 325,
    "start_time": "2021-12-07T10:56:25.165Z"
   },
   {
    "duration": 301,
    "start_time": "2021-12-07T10:57:04.753Z"
   },
   {
    "duration": 331,
    "start_time": "2021-12-07T11:52:28.403Z"
   },
   {
    "duration": 310,
    "start_time": "2021-12-07T11:53:09.065Z"
   },
   {
    "duration": 329,
    "start_time": "2021-12-07T11:53:27.224Z"
   },
   {
    "duration": 303,
    "start_time": "2021-12-07T11:53:55.026Z"
   },
   {
    "duration": 315,
    "start_time": "2021-12-07T11:54:15.960Z"
   },
   {
    "duration": 306,
    "start_time": "2021-12-07T11:54:46.206Z"
   },
   {
    "duration": 319,
    "start_time": "2021-12-07T11:55:26.977Z"
   },
   {
    "duration": 338,
    "start_time": "2021-12-07T11:55:49.231Z"
   },
   {
    "duration": 461,
    "start_time": "2021-12-07T11:56:01.073Z"
   },
   {
    "duration": 5160,
    "start_time": "2021-12-07T11:56:47.629Z"
   },
   {
    "duration": 10099,
    "start_time": "2021-12-07T11:57:30.513Z"
   },
   {
    "duration": 10723,
    "start_time": "2021-12-07T11:59:53.843Z"
   },
   {
    "duration": 157,
    "start_time": "2021-12-07T12:04:41.498Z"
   },
   {
    "duration": 89,
    "start_time": "2021-12-07T12:04:50.713Z"
   },
   {
    "duration": 83,
    "start_time": "2021-12-07T12:08:12.444Z"
   },
   {
    "duration": 98,
    "start_time": "2021-12-07T12:08:41.203Z"
   },
   {
    "duration": 96,
    "start_time": "2021-12-07T12:08:54.458Z"
   },
   {
    "duration": 185,
    "start_time": "2021-12-07T12:12:00.514Z"
   },
   {
    "duration": 10528,
    "start_time": "2021-12-07T12:12:12.230Z"
   },
   {
    "duration": 10279,
    "start_time": "2021-12-07T12:12:25.582Z"
   },
   {
    "duration": 10234,
    "start_time": "2021-12-07T12:12:38.081Z"
   },
   {
    "duration": 10626,
    "start_time": "2021-12-07T12:13:14.252Z"
   },
   {
    "duration": 10887,
    "start_time": "2021-12-07T12:14:40.483Z"
   },
   {
    "duration": 10248,
    "start_time": "2021-12-07T12:15:19.783Z"
   },
   {
    "duration": 10900,
    "start_time": "2021-12-07T12:15:47.282Z"
   },
   {
    "duration": 10247,
    "start_time": "2021-12-07T12:16:07.735Z"
   },
   {
    "duration": 10395,
    "start_time": "2021-12-07T12:17:27.689Z"
   },
   {
    "duration": 10867,
    "start_time": "2021-12-07T12:17:58.285Z"
   },
   {
    "duration": 10143,
    "start_time": "2021-12-07T12:18:25.350Z"
   },
   {
    "duration": 11884,
    "start_time": "2021-12-07T12:20:06.813Z"
   },
   {
    "duration": 10519,
    "start_time": "2021-12-07T12:21:24.975Z"
   },
   {
    "duration": 117,
    "start_time": "2021-12-07T12:29:32.033Z"
   },
   {
    "duration": 1064,
    "start_time": "2021-12-07T12:29:40.323Z"
   },
   {
    "duration": 532,
    "start_time": "2021-12-07T12:30:53.274Z"
   },
   {
    "duration": 10102,
    "start_time": "2021-12-07T12:34:12.704Z"
   },
   {
    "duration": 10058,
    "start_time": "2021-12-07T12:35:50.492Z"
   },
   {
    "duration": 10270,
    "start_time": "2021-12-07T12:39:23.374Z"
   },
   {
    "duration": 10203,
    "start_time": "2021-12-07T12:42:50.726Z"
   },
   {
    "duration": 10382,
    "start_time": "2021-12-07T12:44:15.474Z"
   },
   {
    "duration": 10649,
    "start_time": "2021-12-07T12:45:36.363Z"
   },
   {
    "duration": 10116,
    "start_time": "2021-12-07T13:05:35.449Z"
   },
   {
    "duration": 10118,
    "start_time": "2021-12-07T13:07:03.054Z"
   },
   {
    "duration": 10721,
    "start_time": "2021-12-07T13:08:14.248Z"
   },
   {
    "duration": 10234,
    "start_time": "2021-12-07T13:18:21.712Z"
   },
   {
    "duration": 10106,
    "start_time": "2021-12-07T13:19:09.898Z"
   },
   {
    "duration": 9811,
    "start_time": "2021-12-07T13:20:33.055Z"
   },
   {
    "duration": 9914,
    "start_time": "2021-12-07T13:22:10.890Z"
   },
   {
    "duration": 108,
    "start_time": "2021-12-07T13:22:58.302Z"
   },
   {
    "duration": 10369,
    "start_time": "2021-12-07T13:23:10.899Z"
   },
   {
    "duration": 10418,
    "start_time": "2021-12-07T13:23:48.517Z"
   },
   {
    "duration": 10457,
    "start_time": "2021-12-07T13:31:04.052Z"
   },
   {
    "duration": 9847,
    "start_time": "2021-12-07T13:32:08.522Z"
   },
   {
    "duration": 9999,
    "start_time": "2021-12-07T13:32:42.247Z"
   },
   {
    "duration": 12397,
    "start_time": "2021-12-07T13:34:02.402Z"
   },
   {
    "duration": 10145,
    "start_time": "2021-12-07T13:37:01.427Z"
   },
   {
    "duration": 89,
    "start_time": "2021-12-07T13:38:29.088Z"
   },
   {
    "duration": 10261,
    "start_time": "2021-12-07T13:38:50.923Z"
   },
   {
    "duration": 101,
    "start_time": "2021-12-07T13:41:00.236Z"
   },
   {
    "duration": 10289,
    "start_time": "2021-12-07T13:42:42.074Z"
   },
   {
    "duration": 10077,
    "start_time": "2021-12-07T13:46:32.578Z"
   },
   {
    "duration": 10242,
    "start_time": "2021-12-07T13:48:58.293Z"
   },
   {
    "duration": 10208,
    "start_time": "2021-12-07T13:51:36.293Z"
   },
   {
    "duration": 10325,
    "start_time": "2021-12-07T13:52:10.803Z"
   },
   {
    "duration": 9939,
    "start_time": "2021-12-07T13:57:02.766Z"
   },
   {
    "duration": 10159,
    "start_time": "2021-12-07T13:59:03.315Z"
   },
   {
    "duration": 10154,
    "start_time": "2021-12-07T14:00:06.169Z"
   },
   {
    "duration": 10888,
    "start_time": "2021-12-07T14:02:57.612Z"
   },
   {
    "duration": 10276,
    "start_time": "2021-12-07T14:05:25.771Z"
   },
   {
    "duration": 10399,
    "start_time": "2021-12-07T14:06:44.734Z"
   },
   {
    "duration": 514,
    "start_time": "2021-12-07T14:19:49.920Z"
   },
   {
    "duration": 10048,
    "start_time": "2021-12-07T14:20:58.538Z"
   },
   {
    "duration": 40,
    "start_time": "2021-12-07T14:23:03.163Z"
   },
   {
    "duration": 4,
    "start_time": "2021-12-07T14:26:12.590Z"
   },
   {
    "duration": 10,
    "start_time": "2021-12-07T14:26:18.864Z"
   },
   {
    "duration": 41,
    "start_time": "2021-12-07T14:26:22.747Z"
   },
   {
    "duration": 36,
    "start_time": "2021-12-07T14:30:59.291Z"
   },
   {
    "duration": 313,
    "start_time": "2021-12-07T14:31:50.867Z"
   },
   {
    "duration": 32,
    "start_time": "2021-12-07T14:32:09.093Z"
   },
   {
    "duration": 12,
    "start_time": "2021-12-07T14:32:53.043Z"
   },
   {
    "duration": 11,
    "start_time": "2021-12-07T14:33:29.311Z"
   },
   {
    "duration": 29,
    "start_time": "2021-12-07T14:34:27.105Z"
   },
   {
    "duration": 5,
    "start_time": "2021-12-07T14:37:24.217Z"
   },
   {
    "duration": 7,
    "start_time": "2021-12-07T14:37:32.174Z"
   },
   {
    "duration": 309,
    "start_time": "2021-12-07T14:38:37.822Z"
   },
   {
    "duration": 281,
    "start_time": "2021-12-07T14:39:11.648Z"
   },
   {
    "duration": 291,
    "start_time": "2021-12-07T14:39:25.295Z"
   },
   {
    "duration": 275,
    "start_time": "2021-12-07T14:39:40.195Z"
   },
   {
    "duration": 35,
    "start_time": "2021-12-07T14:41:07.566Z"
   },
   {
    "duration": 11,
    "start_time": "2021-12-07T14:41:51.811Z"
   },
   {
    "duration": 272,
    "start_time": "2021-12-07T15:17:38.811Z"
   },
   {
    "duration": 3,
    "start_time": "2021-12-07T15:17:46.244Z"
   },
   {
    "duration": 20,
    "start_time": "2021-12-07T15:17:48.363Z"
   },
   {
    "duration": 14,
    "start_time": "2021-12-07T15:18:08.094Z"
   },
   {
    "duration": 16,
    "start_time": "2021-12-07T15:18:40.936Z"
   },
   {
    "duration": 15,
    "start_time": "2021-12-07T15:19:14.189Z"
   },
   {
    "duration": 16,
    "start_time": "2021-12-07T15:19:44.679Z"
   },
   {
    "duration": 15,
    "start_time": "2021-12-07T15:20:24.162Z"
   },
   {
    "duration": 266,
    "start_time": "2021-12-07T15:31:45.398Z"
   },
   {
    "duration": 7,
    "start_time": "2021-12-07T15:31:56.088Z"
   },
   {
    "duration": 136,
    "start_time": "2021-12-07T15:34:47.426Z"
   },
   {
    "duration": 113,
    "start_time": "2021-12-07T15:34:58.457Z"
   },
   {
    "duration": 9,
    "start_time": "2021-12-07T15:35:05.832Z"
   },
   {
    "duration": 10,
    "start_time": "2021-12-07T15:42:47.476Z"
   },
   {
    "duration": 8,
    "start_time": "2021-12-07T15:42:58.589Z"
   },
   {
    "duration": 6954,
    "start_time": "2021-12-07T15:48:25.221Z"
   },
   {
    "duration": 273,
    "start_time": "2021-12-07T15:48:43.422Z"
   },
   {
    "duration": 13,
    "start_time": "2021-12-07T15:48:52.768Z"
   },
   {
    "duration": 4,
    "start_time": "2021-12-07T17:30:52.568Z"
   },
   {
    "duration": 580,
    "start_time": "2021-12-07T17:36:32.060Z"
   },
   {
    "duration": 4,
    "start_time": "2021-12-07T17:36:50.733Z"
   },
   {
    "duration": 24,
    "start_time": "2021-12-07T17:36:52.517Z"
   },
   {
    "duration": 281,
    "start_time": "2021-12-07T17:37:54.588Z"
   },
   {
    "duration": 11,
    "start_time": "2021-12-07T17:38:08.268Z"
   },
   {
    "duration": 10,
    "start_time": "2021-12-07T17:38:09.037Z"
   },
   {
    "duration": 32,
    "start_time": "2021-12-07T17:38:24.640Z"
   },
   {
    "duration": 7,
    "start_time": "2021-12-07T17:40:31.909Z"
   },
   {
    "duration": 46,
    "start_time": "2021-12-07T17:40:34.353Z"
   },
   {
    "duration": 46,
    "start_time": "2021-12-07T17:40:35.677Z"
   },
   {
    "duration": 3,
    "start_time": "2021-12-07T17:43:23.923Z"
   },
   {
    "duration": 291,
    "start_time": "2021-12-07T17:44:08.552Z"
   },
   {
    "duration": 44,
    "start_time": "2021-12-07T17:44:20.298Z"
   },
   {
    "duration": 316,
    "start_time": "2021-12-07T17:44:43.048Z"
   },
   {
    "duration": 46,
    "start_time": "2021-12-07T17:45:04.366Z"
   },
   {
    "duration": 309,
    "start_time": "2021-12-07T17:45:28.925Z"
   },
   {
    "duration": 355,
    "start_time": "2021-12-07T17:45:42.783Z"
   },
   {
    "duration": 41,
    "start_time": "2021-12-07T17:46:26.683Z"
   },
   {
    "duration": 39,
    "start_time": "2021-12-07T17:47:05.417Z"
   },
   {
    "duration": 22,
    "start_time": "2021-12-07T17:47:27.332Z"
   },
   {
    "duration": 25,
    "start_time": "2021-12-07T17:47:43.212Z"
   },
   {
    "duration": 23,
    "start_time": "2021-12-07T17:48:22.897Z"
   },
   {
    "duration": 25,
    "start_time": "2021-12-07T17:48:46.724Z"
   },
   {
    "duration": 23,
    "start_time": "2021-12-07T17:49:16.740Z"
   },
   {
    "duration": 26,
    "start_time": "2021-12-07T17:49:31.214Z"
   },
   {
    "duration": 4,
    "start_time": "2021-12-07T17:52:34.360Z"
   },
   {
    "duration": 21,
    "start_time": "2021-12-07T17:52:41.467Z"
   },
   {
    "duration": 23,
    "start_time": "2021-12-07T17:52:44.308Z"
   },
   {
    "duration": 4,
    "start_time": "2021-12-07T17:56:04.694Z"
   },
   {
    "duration": 21,
    "start_time": "2021-12-07T17:56:08.875Z"
   },
   {
    "duration": 13,
    "start_time": "2021-12-07T17:56:14.666Z"
   },
   {
    "duration": 18,
    "start_time": "2021-12-07T18:00:55.307Z"
   },
   {
    "duration": 13,
    "start_time": "2021-12-07T18:01:06.587Z"
   },
   {
    "duration": 333,
    "start_time": "2021-12-07T19:36:36.569Z"
   },
   {
    "duration": 452,
    "start_time": "2021-12-07T19:37:15.082Z"
   },
   {
    "duration": 345,
    "start_time": "2021-12-07T19:37:34.998Z"
   },
   {
    "duration": 22,
    "start_time": "2021-12-07T19:39:51.668Z"
   },
   {
    "duration": 274,
    "start_time": "2021-12-07T19:40:00.313Z"
   },
   {
    "duration": 8,
    "start_time": "2021-12-07T19:40:17.598Z"
   },
   {
    "duration": 9,
    "start_time": "2021-12-07T19:40:35.366Z"
   },
   {
    "duration": 9,
    "start_time": "2021-12-07T19:40:38.688Z"
   },
   {
    "duration": 286,
    "start_time": "2021-12-07T19:42:51.847Z"
   },
   {
    "duration": 8,
    "start_time": "2021-12-07T19:43:11.166Z"
   },
   {
    "duration": 11,
    "start_time": "2021-12-07T19:43:55.435Z"
   },
   {
    "duration": 5,
    "start_time": "2021-12-07T19:43:58.891Z"
   },
   {
    "duration": 8,
    "start_time": "2021-12-07T19:44:55.822Z"
   },
   {
    "duration": 6,
    "start_time": "2021-12-07T19:44:58.413Z"
   },
   {
    "duration": 9,
    "start_time": "2021-12-07T19:45:02.269Z"
   },
   {
    "duration": 5,
    "start_time": "2021-12-07T19:45:03.532Z"
   },
   {
    "duration": 256,
    "start_time": "2021-12-07T19:46:46.478Z"
   },
   {
    "duration": 6,
    "start_time": "2021-12-07T19:47:01.216Z"
   },
   {
    "duration": 5,
    "start_time": "2021-12-07T19:47:02.664Z"
   },
   {
    "duration": 669,
    "start_time": "2021-12-07T19:58:54.018Z"
   },
   {
    "duration": 130,
    "start_time": "2021-12-07T19:58:54.689Z"
   },
   {
    "duration": 23,
    "start_time": "2021-12-07T19:58:54.821Z"
   },
   {
    "duration": 23,
    "start_time": "2021-12-07T19:58:54.846Z"
   },
   {
    "duration": 3,
    "start_time": "2021-12-07T19:58:54.871Z"
   },
   {
    "duration": 23,
    "start_time": "2021-12-07T19:58:54.876Z"
   },
   {
    "duration": 4,
    "start_time": "2021-12-07T19:58:54.900Z"
   },
   {
    "duration": 46,
    "start_time": "2021-12-07T19:58:54.906Z"
   },
   {
    "duration": 18,
    "start_time": "2021-12-07T19:58:54.953Z"
   },
   {
    "duration": 22,
    "start_time": "2021-12-07T19:58:54.972Z"
   },
   {
    "duration": 78,
    "start_time": "2021-12-07T19:58:54.996Z"
   },
   {
    "duration": 81,
    "start_time": "2021-12-07T19:58:55.076Z"
   },
   {
    "duration": 53,
    "start_time": "2021-12-07T19:58:55.159Z"
   },
   {
    "duration": 48,
    "start_time": "2021-12-07T19:58:55.214Z"
   },
   {
    "duration": 465,
    "start_time": "2021-12-07T19:58:55.264Z"
   },
   {
    "duration": -150,
    "start_time": "2021-12-07T19:58:55.882Z"
   },
   {
    "duration": -225,
    "start_time": "2021-12-07T19:58:55.958Z"
   },
   {
    "duration": -240,
    "start_time": "2021-12-07T19:58:55.974Z"
   },
   {
    "duration": -253,
    "start_time": "2021-12-07T19:58:55.988Z"
   },
   {
    "duration": -266,
    "start_time": "2021-12-07T19:58:56.002Z"
   },
   {
    "duration": -298,
    "start_time": "2021-12-07T19:58:56.036Z"
   },
   {
    "duration": -326,
    "start_time": "2021-12-07T19:58:56.064Z"
   },
   {
    "duration": -339,
    "start_time": "2021-12-07T19:58:56.078Z"
   },
   {
    "duration": -352,
    "start_time": "2021-12-07T19:58:56.092Z"
   },
   {
    "duration": -366,
    "start_time": "2021-12-07T19:58:56.108Z"
   },
   {
    "duration": -381,
    "start_time": "2021-12-07T19:58:56.124Z"
   },
   {
    "duration": -398,
    "start_time": "2021-12-07T19:58:56.142Z"
   },
   {
    "duration": -415,
    "start_time": "2021-12-07T19:58:56.160Z"
   },
   {
    "duration": -428,
    "start_time": "2021-12-07T19:58:56.174Z"
   },
   {
    "duration": -441,
    "start_time": "2021-12-07T19:58:56.188Z"
   },
   {
    "duration": -454,
    "start_time": "2021-12-07T19:58:56.202Z"
   },
   {
    "duration": -465,
    "start_time": "2021-12-07T19:58:56.214Z"
   },
   {
    "duration": -479,
    "start_time": "2021-12-07T19:58:56.228Z"
   },
   {
    "duration": -496,
    "start_time": "2021-12-07T19:58:56.246Z"
   },
   {
    "duration": -509,
    "start_time": "2021-12-07T19:58:56.260Z"
   },
   {
    "duration": -521,
    "start_time": "2021-12-07T19:58:56.274Z"
   },
   {
    "duration": -534,
    "start_time": "2021-12-07T19:58:56.288Z"
   },
   {
    "duration": -545,
    "start_time": "2021-12-07T19:58:56.300Z"
   },
   {
    "duration": -558,
    "start_time": "2021-12-07T19:58:56.314Z"
   },
   {
    "duration": 592,
    "start_time": "2021-12-07T19:59:31.551Z"
   },
   {
    "duration": 129,
    "start_time": "2021-12-07T19:59:32.145Z"
   },
   {
    "duration": 15,
    "start_time": "2021-12-07T19:59:32.276Z"
   },
   {
    "duration": 26,
    "start_time": "2021-12-07T19:59:32.293Z"
   },
   {
    "duration": 4,
    "start_time": "2021-12-07T19:59:32.321Z"
   },
   {
    "duration": 35,
    "start_time": "2021-12-07T19:59:32.326Z"
   },
   {
    "duration": 3,
    "start_time": "2021-12-07T19:59:32.363Z"
   },
   {
    "duration": 20,
    "start_time": "2021-12-07T19:59:32.369Z"
   },
   {
    "duration": 15,
    "start_time": "2021-12-07T19:59:32.391Z"
   },
   {
    "duration": 40,
    "start_time": "2021-12-07T19:59:32.408Z"
   },
   {
    "duration": 52,
    "start_time": "2021-12-07T19:59:32.450Z"
   },
   {
    "duration": 79,
    "start_time": "2021-12-07T19:59:32.504Z"
   },
   {
    "duration": 48,
    "start_time": "2021-12-07T19:59:32.585Z"
   },
   {
    "duration": 46,
    "start_time": "2021-12-07T19:59:32.634Z"
   },
   {
    "duration": 351,
    "start_time": "2021-12-07T19:59:32.682Z"
   },
   {
    "duration": -147,
    "start_time": "2021-12-07T19:59:33.182Z"
   },
   {
    "duration": -158,
    "start_time": "2021-12-07T19:59:33.194Z"
   },
   {
    "duration": -169,
    "start_time": "2021-12-07T19:59:33.206Z"
   },
   {
    "duration": -180,
    "start_time": "2021-12-07T19:59:33.218Z"
   },
   {
    "duration": -189,
    "start_time": "2021-12-07T19:59:33.228Z"
   },
   {
    "duration": -200,
    "start_time": "2021-12-07T19:59:33.240Z"
   },
   {
    "duration": -209,
    "start_time": "2021-12-07T19:59:33.250Z"
   },
   {
    "duration": -220,
    "start_time": "2021-12-07T19:59:33.262Z"
   },
   {
    "duration": -231,
    "start_time": "2021-12-07T19:59:33.274Z"
   },
   {
    "duration": -242,
    "start_time": "2021-12-07T19:59:33.286Z"
   },
   {
    "duration": -251,
    "start_time": "2021-12-07T19:59:33.296Z"
   },
   {
    "duration": -262,
    "start_time": "2021-12-07T19:59:33.308Z"
   },
   {
    "duration": -275,
    "start_time": "2021-12-07T19:59:33.322Z"
   },
   {
    "duration": -294,
    "start_time": "2021-12-07T19:59:33.342Z"
   },
   {
    "duration": -307,
    "start_time": "2021-12-07T19:59:33.356Z"
   },
   {
    "duration": -322,
    "start_time": "2021-12-07T19:59:33.372Z"
   },
   {
    "duration": -333,
    "start_time": "2021-12-07T19:59:33.384Z"
   },
   {
    "duration": -346,
    "start_time": "2021-12-07T19:59:33.398Z"
   },
   {
    "duration": -357,
    "start_time": "2021-12-07T19:59:33.410Z"
   },
   {
    "duration": -368,
    "start_time": "2021-12-07T19:59:33.422Z"
   },
   {
    "duration": -377,
    "start_time": "2021-12-07T19:59:33.432Z"
   },
   {
    "duration": -388,
    "start_time": "2021-12-07T19:59:33.444Z"
   },
   {
    "duration": -399,
    "start_time": "2021-12-07T19:59:33.456Z"
   },
   {
    "duration": -410,
    "start_time": "2021-12-07T19:59:33.468Z"
   },
   {
    "duration": 625,
    "start_time": "2021-12-07T20:00:35.269Z"
   },
   {
    "duration": 133,
    "start_time": "2021-12-07T20:00:35.896Z"
   },
   {
    "duration": 20,
    "start_time": "2021-12-07T20:00:36.031Z"
   },
   {
    "duration": 24,
    "start_time": "2021-12-07T20:00:36.053Z"
   },
   {
    "duration": 3,
    "start_time": "2021-12-07T20:00:36.079Z"
   },
   {
    "duration": 23,
    "start_time": "2021-12-07T20:00:36.084Z"
   },
   {
    "duration": 4,
    "start_time": "2021-12-07T20:00:36.109Z"
   },
   {
    "duration": 45,
    "start_time": "2021-12-07T20:00:36.115Z"
   },
   {
    "duration": 26,
    "start_time": "2021-12-07T20:00:36.162Z"
   },
   {
    "duration": 25,
    "start_time": "2021-12-07T20:00:36.190Z"
   },
   {
    "duration": 81,
    "start_time": "2021-12-07T20:00:36.217Z"
   },
   {
    "duration": 76,
    "start_time": "2021-12-07T20:00:36.300Z"
   },
   {
    "duration": 50,
    "start_time": "2021-12-07T20:00:36.377Z"
   },
   {
    "duration": 47,
    "start_time": "2021-12-07T20:00:36.428Z"
   },
   {
    "duration": 9991,
    "start_time": "2021-12-07T20:00:36.476Z"
   },
   {
    "duration": 2,
    "start_time": "2021-12-07T20:00:46.469Z"
   },
   {
    "duration": 19,
    "start_time": "2021-12-07T20:00:46.473Z"
   },
   {
    "duration": 38,
    "start_time": "2021-12-07T20:00:46.494Z"
   },
   {
    "duration": 19,
    "start_time": "2021-12-07T20:00:46.534Z"
   },
   {
    "duration": 10,
    "start_time": "2021-12-07T20:00:46.555Z"
   },
   {
    "duration": 3,
    "start_time": "2021-12-07T20:00:46.567Z"
   },
   {
    "duration": 33,
    "start_time": "2021-12-07T20:00:46.571Z"
   },
   {
    "duration": 44,
    "start_time": "2021-12-07T20:00:46.608Z"
   },
   {
    "duration": 21,
    "start_time": "2021-12-07T20:00:46.654Z"
   },
   {
    "duration": 14,
    "start_time": "2021-12-07T20:00:46.677Z"
   },
   {
    "duration": 15,
    "start_time": "2021-12-07T20:00:46.693Z"
   },
   {
    "duration": 41,
    "start_time": "2021-12-07T20:00:46.709Z"
   },
   {
    "duration": 7,
    "start_time": "2021-12-07T20:00:46.752Z"
   },
   {
    "duration": 11,
    "start_time": "2021-12-07T20:00:46.760Z"
   },
   {
    "duration": 10,
    "start_time": "2021-12-07T20:00:46.772Z"
   },
   {
    "duration": 4,
    "start_time": "2021-12-07T20:00:46.784Z"
   },
   {
    "duration": 19,
    "start_time": "2021-12-07T20:00:46.790Z"
   },
   {
    "duration": 47,
    "start_time": "2021-12-07T20:00:46.810Z"
   },
   {
    "duration": 20,
    "start_time": "2021-12-07T20:00:46.859Z"
   },
   {
    "duration": 18,
    "start_time": "2021-12-07T20:00:46.882Z"
   },
   {
    "duration": 42,
    "start_time": "2021-12-07T20:00:46.902Z"
   },
   {
    "duration": 6,
    "start_time": "2021-12-07T20:00:46.946Z"
   },
   {
    "duration": 9,
    "start_time": "2021-12-07T20:00:46.954Z"
   },
   {
    "duration": 5,
    "start_time": "2021-12-07T20:00:46.966Z"
   },
   {
    "duration": 692,
    "start_time": "2021-12-08T11:52:13.868Z"
   },
   {
    "duration": 143,
    "start_time": "2021-12-08T11:52:14.561Z"
   },
   {
    "duration": 17,
    "start_time": "2021-12-08T11:52:14.706Z"
   },
   {
    "duration": 26,
    "start_time": "2021-12-08T11:52:14.724Z"
   },
   {
    "duration": 4,
    "start_time": "2021-12-08T11:52:14.763Z"
   },
   {
    "duration": 29,
    "start_time": "2021-12-08T11:52:14.769Z"
   },
   {
    "duration": 5,
    "start_time": "2021-12-08T11:52:14.800Z"
   },
   {
    "duration": 61,
    "start_time": "2021-12-08T11:52:14.808Z"
   },
   {
    "duration": 22,
    "start_time": "2021-12-08T11:52:14.872Z"
   },
   {
    "duration": 29,
    "start_time": "2021-12-08T11:52:14.896Z"
   },
   {
    "duration": 91,
    "start_time": "2021-12-08T11:52:14.927Z"
   },
   {
    "duration": 94,
    "start_time": "2021-12-08T11:52:15.021Z"
   },
   {
    "duration": 64,
    "start_time": "2021-12-08T11:52:15.117Z"
   },
   {
    "duration": 40,
    "start_time": "2021-12-08T11:52:15.182Z"
   },
   {
    "duration": 10641,
    "start_time": "2021-12-08T11:52:15.224Z"
   },
   {
    "duration": 2,
    "start_time": "2021-12-08T11:52:25.867Z"
   },
   {
    "duration": 11,
    "start_time": "2021-12-08T11:52:25.871Z"
   },
   {
    "duration": 41,
    "start_time": "2021-12-08T11:52:25.884Z"
   },
   {
    "duration": 12,
    "start_time": "2021-12-08T11:52:25.926Z"
   },
   {
    "duration": 18,
    "start_time": "2021-12-08T11:52:25.964Z"
   },
   {
    "duration": 3,
    "start_time": "2021-12-08T11:52:25.983Z"
   },
   {
    "duration": 20,
    "start_time": "2021-12-08T11:52:25.987Z"
   },
   {
    "duration": 15,
    "start_time": "2021-12-08T11:52:26.010Z"
   },
   {
    "duration": 39,
    "start_time": "2021-12-08T11:52:26.027Z"
   },
   {
    "duration": 14,
    "start_time": "2021-12-08T11:52:26.068Z"
   },
   {
    "duration": 17,
    "start_time": "2021-12-08T11:52:26.083Z"
   },
   {
    "duration": 15,
    "start_time": "2021-12-08T11:52:26.102Z"
   },
   {
    "duration": 9,
    "start_time": "2021-12-08T11:52:26.118Z"
   },
   {
    "duration": 11,
    "start_time": "2021-12-08T11:52:26.164Z"
   },
   {
    "duration": 9,
    "start_time": "2021-12-08T11:52:26.176Z"
   },
   {
    "duration": 3,
    "start_time": "2021-12-08T11:52:26.187Z"
   },
   {
    "duration": 24,
    "start_time": "2021-12-08T11:52:26.192Z"
   },
   {
    "duration": 13,
    "start_time": "2021-12-08T11:52:26.217Z"
   },
   {
    "duration": 43,
    "start_time": "2021-12-08T11:52:26.232Z"
   },
   {
    "duration": 13,
    "start_time": "2021-12-08T11:52:26.277Z"
   },
   {
    "duration": 8,
    "start_time": "2021-12-08T11:52:26.291Z"
   },
   {
    "duration": 18,
    "start_time": "2021-12-08T11:52:26.300Z"
   },
   {
    "duration": 26,
    "start_time": "2021-12-08T11:52:26.320Z"
   },
   {
    "duration": 6,
    "start_time": "2021-12-08T11:52:26.348Z"
   },
   {
    "duration": 102,
    "start_time": "2021-12-08T15:31:34.448Z"
   }
  ],
  "colab": {
   "collapsed_sections": [
    "E0vqbgi9ay0H",
    "VUC88oWjTJw2"
   ],
   "name": "yandex_music_project_2021.2.ipynb",
   "provenance": []
  },
  "kernelspec": {
   "display_name": "Python 3",
   "language": "python",
   "name": "python3"
  },
  "language_info": {
   "codemirror_mode": {
    "name": "ipython",
    "version": 3
   },
   "file_extension": ".py",
   "mimetype": "text/x-python",
   "name": "python",
   "nbconvert_exporter": "python",
   "pygments_lexer": "ipython3",
   "version": "3.8.8"
  },
  "toc": {
   "base_numbering": 1,
   "nav_menu": {},
   "number_sections": true,
   "sideBar": true,
   "skip_h1_title": true,
   "title_cell": "Table of Contents",
   "title_sidebar": "Contents",
   "toc_cell": false,
   "toc_position": {},
   "toc_section_display": true,
   "toc_window_display": false
  }
 },
 "nbformat": 4,
 "nbformat_minor": 1
}
